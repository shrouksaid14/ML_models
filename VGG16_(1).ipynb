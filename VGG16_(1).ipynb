{
  "nbformat": 4,
  "nbformat_minor": 0,
  "metadata": {
    "colab": {
      "provenance": [],
      "collapsed_sections": []
    },
    "kernelspec": {
      "name": "python3",
      "display_name": "Python 3"
    },
    "language_info": {
      "name": "python"
    },
    "accelerator": "GPU",
    "gpuClass": "standard"
  },
  "cells": [
    {
      "cell_type": "code",
      "execution_count": 2,
      "metadata": {
        "id": "pRkTo-WKNhOk",
        "colab": {
          "base_uri": "https://localhost:8080/"
        },
        "outputId": "90ad402f-eb67-4030-b618-33c4cae43f35"
      },
      "outputs": [
        {
          "output_type": "stream",
          "name": "stdout",
          "text": [
            "Mounted at /content/drive\n"
          ]
        }
      ],
      "source": [
        "from google.colab import drive\n",
        "drive.mount('/content/drive')"
      ]
    },
    {
      "cell_type": "code",
      "source": [
        "import pandas as pd\n",
        "import numpy as np\n",
        "import os\n",
        "import tensorflow as tf\n",
        "import cv2\n",
        "from tensorflow import keras\n",
        "from keras.layers.core import Dense\n",
        "from tensorflow.keras.layers import Input , Flatten\n",
        "from tensorflow.keras import layers\n",
        "from tensorflow.keras.models import Sequential, Model\n",
        "from keras.preprocessing.image import ImageDataGenerator\n",
        "from  matplotlib import pyplot as plt\n",
        "import matplotlib.image as mpimg\n",
        "%matplotlib inline"
      ],
      "metadata": {
        "id": "LW6DpEp-2OOW"
      },
      "execution_count": 3,
      "outputs": []
    },
    {
      "cell_type": "code",
      "source": [
        "pip install split-folders"
      ],
      "metadata": {
        "colab": {
          "base_uri": "https://localhost:8080/"
        },
        "id": "3rTlc0QH3v7D",
        "outputId": "81ba350b-846f-464d-839b-0b12cde560bb"
      },
      "execution_count": 4,
      "outputs": [
        {
          "output_type": "stream",
          "name": "stdout",
          "text": [
            "Looking in indexes: https://pypi.org/simple, https://us-python.pkg.dev/colab-wheels/public/simple/\n",
            "Collecting split-folders\n",
            "  Downloading split_folders-0.5.1-py3-none-any.whl (8.4 kB)\n",
            "Installing collected packages: split-folders\n",
            "Successfully installed split-folders-0.5.1\n"
          ]
        }
      ]
    },
    {
      "cell_type": "code",
      "source": [
        "img_folder=r'/content/drive/MyDrive/sprints project /Scenes training set'\n",
        "import splitfolders\n",
        "splitfolders.ratio(img_folder, output=\"output\",\n",
        "    seed=1337, ratio=(.7,0.3), group_prefix=None, move=False)"
      ],
      "metadata": {
        "colab": {
          "base_uri": "https://localhost:8080/"
        },
        "id": "rC01SALH3LMU",
        "outputId": "e70828b9-e05f-4c1c-c7c6-d1acb81ad5c6"
      },
      "execution_count": 5,
      "outputs": [
        {
          "output_type": "stream",
          "name": "stderr",
          "text": [
            "Copying files: 14034 files [05:20, 43.75 files/s] \n"
          ]
        }
      ]
    },
    {
      "cell_type": "code",
      "source": [
        "train_dir = '/content/output/train'\n",
        "val_dir = '/content/output/val'"
      ],
      "metadata": {
        "id": "CCQA_vOF6PAc"
      },
      "execution_count": 6,
      "outputs": []
    },
    {
      "cell_type": "code",
      "source": [
        "from keras.preprocessing.image import ImageDataGenerator\n",
        "train_datagen= ImageDataGenerator(rescale=1. /255)\n",
        "train_generator=train_datagen.flow_from_directory(\n",
        "     directory=train_dir,\n",
        "     target_size=(224, 224),\n",
        "     color_mode= \"rgb\",\n",
        "     batch_size=30,\n",
        "     shuffle= False,\n",
        "     seed=42 \n",
        ")"
      ],
      "metadata": {
        "colab": {
          "base_uri": "https://localhost:8080/"
        },
        "id": "a3qpCFqaWkMw",
        "outputId": "384bd14d-5bcc-44df-d339-72ffbb3699a7"
      },
      "execution_count": 7,
      "outputs": [
        {
          "output_type": "stream",
          "name": "stdout",
          "text": [
            "Found 9820 images belonging to 6 classes.\n"
          ]
        }
      ]
    },
    {
      "cell_type": "code",
      "source": [
        "from keras.preprocessing.image import ImageDataGenerator\n",
        "val_datagen= ImageDataGenerator(rescale=1. /255)\n",
        "val_generator= val_datagen.flow_from_directory(\n",
        "     directory=val_dir,\n",
        "     target_size=(224, 224),\n",
        "     color_mode= \"rgb\",\n",
        "     batch_size=30,\n",
        "     shuffle= False,\n",
        "     seed=42 \n",
        ")"
      ],
      "metadata": {
        "colab": {
          "base_uri": "https://localhost:8080/"
        },
        "id": "4iXw8brNWkDy",
        "outputId": "9a32378c-b6f8-4cd9-987b-bd3f11ef0dcc"
      },
      "execution_count": 8,
      "outputs": [
        {
          "output_type": "stream",
          "name": "stdout",
          "text": [
            "Found 4214 images belonging to 6 classes.\n"
          ]
        }
      ]
    },
    {
      "cell_type": "code",
      "source": [
        "test_dir=r'/content/drive/MyDrive/sprints project /testset'"
      ],
      "metadata": {
        "id": "Y5p1eMGxW5Fj"
      },
      "execution_count": 9,
      "outputs": []
    },
    {
      "cell_type": "code",
      "source": [
        "from keras.preprocessing.image import ImageDataGenerator\n",
        "test_datagen= ImageDataGenerator(rescale=1. /255)\n",
        "test_generator= test_datagen.flow_from_directory(\n",
        "     directory= test_dir,\n",
        "     target_size=(224, 224),\n",
        "     color_mode= \"rgb\",\n",
        "     batch_size=30,\n",
        "     shuffle= False,\n",
        "     seed=42 \n",
        ")"
      ],
      "metadata": {
        "colab": {
          "base_uri": "https://localhost:8080/"
        },
        "id": "Hl3XNfCNWxFV",
        "outputId": "8050a967-c6fc-403c-d592-0a26f7afa944"
      },
      "execution_count": 10,
      "outputs": [
        {
          "output_type": "stream",
          "name": "stdout",
          "text": [
            "Found 3050 images belonging to 1 classes.\n"
          ]
        }
      ]
    },
    {
      "cell_type": "code",
      "source": [
        "train_generator.class_indices"
      ],
      "metadata": {
        "colab": {
          "base_uri": "https://localhost:8080/"
        },
        "id": "kGaP6MiNW49w",
        "outputId": "996f7914-c2f6-4a3e-ef7e-e75390858305"
      },
      "execution_count": 11,
      "outputs": [
        {
          "output_type": "execute_result",
          "data": {
            "text/plain": [
              "{'buildings': 0,\n",
              " 'forest': 1,\n",
              " 'glacier': 2,\n",
              " 'mountain': 3,\n",
              " 'sea': 4,\n",
              " 'street': 5}"
            ]
          },
          "metadata": {},
          "execution_count": 11
        }
      ]
    },
    {
      "cell_type": "code",
      "source": [
        "train_generator.classes"
      ],
      "metadata": {
        "colab": {
          "base_uri": "https://localhost:8080/"
        },
        "id": "KLN22opkEVoU",
        "outputId": "b3a78dc4-8496-49ce-f06d-37551e3e583c"
      },
      "execution_count": 12,
      "outputs": [
        {
          "output_type": "execute_result",
          "data": {
            "text/plain": [
              "array([0, 0, 0, ..., 5, 5, 5], dtype=int32)"
            ]
          },
          "metadata": {},
          "execution_count": 12
        }
      ]
    },
    {
      "cell_type": "code",
      "source": [
        "from keras.models import Model\n",
        "from keras.layers import Flatten, Dense\n",
        "from keras.applications.vgg16 import VGG16"
      ],
      "metadata": {
        "id": "-z_-3Yl1EVyP"
      },
      "execution_count": 13,
      "outputs": []
    },
    {
      "cell_type": "code",
      "source": [
        "IMAGE_SIZE = [224, 224]\n",
        "vgg = VGG16(input_shape = IMAGE_SIZE + [3], weights = 'imagenet', include_top = False)\n",
        "\n",
        "for layer in vgg.layers:\n",
        "    layer.trainable = False\n",
        "    \n",
        "x = Flatten()(vgg.output)\n",
        "\n",
        "\n",
        "x = Dense(6, activation = 'softmax')(x)\n",
        "model = Model(inputs = vgg.input, outputs = x)\n",
        "\n",
        "model.compile(loss='categorical_crossentropy', optimizer='adam', metrics=['accuracy'])\n",
        "\n",
        "\n",
        "\n",
        "model.summary()"
      ],
      "metadata": {
        "colab": {
          "base_uri": "https://localhost:8080/"
        },
        "id": "R7PqePw4EV92",
        "outputId": "6f5c84b0-b558-4b9e-8477-773192a306fd"
      },
      "execution_count": 14,
      "outputs": [
        {
          "output_type": "stream",
          "name": "stdout",
          "text": [
            "Downloading data from https://storage.googleapis.com/tensorflow/keras-applications/vgg16/vgg16_weights_tf_dim_ordering_tf_kernels_notop.h5\n",
            "58892288/58889256 [==============================] - 0s 0us/step\n",
            "58900480/58889256 [==============================] - 0s 0us/step\n",
            "Model: \"model\"\n",
            "_________________________________________________________________\n",
            " Layer (type)                Output Shape              Param #   \n",
            "=================================================================\n",
            " input_1 (InputLayer)        [(None, 224, 224, 3)]     0         \n",
            "                                                                 \n",
            " block1_conv1 (Conv2D)       (None, 224, 224, 64)      1792      \n",
            "                                                                 \n",
            " block1_conv2 (Conv2D)       (None, 224, 224, 64)      36928     \n",
            "                                                                 \n",
            " block1_pool (MaxPooling2D)  (None, 112, 112, 64)      0         \n",
            "                                                                 \n",
            " block2_conv1 (Conv2D)       (None, 112, 112, 128)     73856     \n",
            "                                                                 \n",
            " block2_conv2 (Conv2D)       (None, 112, 112, 128)     147584    \n",
            "                                                                 \n",
            " block2_pool (MaxPooling2D)  (None, 56, 56, 128)       0         \n",
            "                                                                 \n",
            " block3_conv1 (Conv2D)       (None, 56, 56, 256)       295168    \n",
            "                                                                 \n",
            " block3_conv2 (Conv2D)       (None, 56, 56, 256)       590080    \n",
            "                                                                 \n",
            " block3_conv3 (Conv2D)       (None, 56, 56, 256)       590080    \n",
            "                                                                 \n",
            " block3_pool (MaxPooling2D)  (None, 28, 28, 256)       0         \n",
            "                                                                 \n",
            " block4_conv1 (Conv2D)       (None, 28, 28, 512)       1180160   \n",
            "                                                                 \n",
            " block4_conv2 (Conv2D)       (None, 28, 28, 512)       2359808   \n",
            "                                                                 \n",
            " block4_conv3 (Conv2D)       (None, 28, 28, 512)       2359808   \n",
            "                                                                 \n",
            " block4_pool (MaxPooling2D)  (None, 14, 14, 512)       0         \n",
            "                                                                 \n",
            " block5_conv1 (Conv2D)       (None, 14, 14, 512)       2359808   \n",
            "                                                                 \n",
            " block5_conv2 (Conv2D)       (None, 14, 14, 512)       2359808   \n",
            "                                                                 \n",
            " block5_conv3 (Conv2D)       (None, 14, 14, 512)       2359808   \n",
            "                                                                 \n",
            " block5_pool (MaxPooling2D)  (None, 7, 7, 512)         0         \n",
            "                                                                 \n",
            " flatten (Flatten)           (None, 25088)             0         \n",
            "                                                                 \n",
            " dense (Dense)               (None, 6)                 150534    \n",
            "                                                                 \n",
            "=================================================================\n",
            "Total params: 14,865,222\n",
            "Trainable params: 150,534\n",
            "Non-trainable params: 14,714,688\n",
            "_________________________________________________________________\n"
          ]
        }
      ]
    },
    {
      "cell_type": "code",
      "source": [
        "training_images = 9820\n",
        "validation_images = 4214\n",
        "\n",
        "history = model.fit(train_generator,\n",
        "     steps_per_epoch = 306,\n",
        "     epochs = 30,  \n",
        "     validation_data= val_generator,\n",
        "     validation_steps=30\n",
        "\n",
        ")"
      ],
      "metadata": {
        "colab": {
          "base_uri": "https://localhost:8080/"
        },
        "id": "vjT1a03lEjoL",
        "outputId": "dbeab2c7-71f1-46e4-c8ca-b687334101fc"
      },
      "execution_count": 15,
      "outputs": [
        {
          "output_type": "stream",
          "name": "stdout",
          "text": [
            "Epoch 1/30\n",
            "306/306 [==============================] - 62s 160ms/step - loss: 1.4523 - accuracy: 0.6657 - val_loss: 0.3859 - val_accuracy: 0.8789\n",
            "Epoch 2/30\n",
            "306/306 [==============================] - 50s 161ms/step - loss: 0.7480 - accuracy: 0.8202 - val_loss: 0.3856 - val_accuracy: 0.8978\n",
            "Epoch 3/30\n",
            "306/306 [==============================] - 52s 169ms/step - loss: 0.4968 - accuracy: 0.8650 - val_loss: 0.1335 - val_accuracy: 0.9600\n",
            "Epoch 4/30\n",
            "306/306 [==============================] - 51s 167ms/step - loss: 0.3431 - accuracy: 0.8922 - val_loss: 0.9739 - val_accuracy: 0.7878\n",
            "Epoch 5/30\n",
            "306/306 [==============================] - 52s 170ms/step - loss: 0.4106 - accuracy: 0.8918 - val_loss: 0.4356 - val_accuracy: 0.8989\n",
            "Epoch 6/30\n",
            "306/306 [==============================] - 51s 167ms/step - loss: 0.3385 - accuracy: 0.9153 - val_loss: 0.3594 - val_accuracy: 0.9156\n",
            "Epoch 7/30\n",
            "306/306 [==============================] - 52s 169ms/step - loss: 0.2208 - accuracy: 0.9316 - val_loss: 0.5937 - val_accuracy: 0.8856\n",
            "Epoch 8/30\n",
            "306/306 [==============================] - 52s 170ms/step - loss: 0.2478 - accuracy: 0.9373 - val_loss: 0.5572 - val_accuracy: 0.8911\n",
            "Epoch 9/30\n",
            "306/306 [==============================] - 51s 167ms/step - loss: 0.1511 - accuracy: 0.9532 - val_loss: 7.6301 - val_accuracy: 0.3411\n",
            "Epoch 10/30\n",
            "306/306 [==============================] - 52s 170ms/step - loss: 0.4262 - accuracy: 0.9136 - val_loss: 0.5125 - val_accuracy: 0.9278\n",
            "Epoch 11/30\n",
            "306/306 [==============================] - 52s 169ms/step - loss: 0.1588 - accuracy: 0.9527 - val_loss: 0.6197 - val_accuracy: 0.9067\n",
            "Epoch 12/30\n",
            "306/306 [==============================] - 51s 167ms/step - loss: 0.1033 - accuracy: 0.9669 - val_loss: 0.3572 - val_accuracy: 0.9378\n",
            "Epoch 13/30\n",
            "306/306 [==============================] - 52s 169ms/step - loss: 0.1157 - accuracy: 0.9698 - val_loss: 0.4819 - val_accuracy: 0.9244\n",
            "Epoch 14/30\n",
            "306/306 [==============================] - 52s 169ms/step - loss: 0.0429 - accuracy: 0.9864 - val_loss: 0.4631 - val_accuracy: 0.9267\n",
            "Epoch 15/30\n",
            "306/306 [==============================] - 52s 169ms/step - loss: 0.1668 - accuracy: 0.9525 - val_loss: 0.7002 - val_accuracy: 0.9111\n",
            "Epoch 16/30\n",
            "306/306 [==============================] - 52s 169ms/step - loss: 0.4716 - accuracy: 0.9373 - val_loss: 0.4878 - val_accuracy: 0.9278\n",
            "Epoch 17/30\n",
            "306/306 [==============================] - 51s 167ms/step - loss: 0.2098 - accuracy: 0.9602 - val_loss: 1.2443 - val_accuracy: 0.8833\n",
            "Epoch 18/30\n",
            "306/306 [==============================] - 52s 170ms/step - loss: 0.0308 - accuracy: 0.9908 - val_loss: 0.6683 - val_accuracy: 0.9233\n",
            "Epoch 19/30\n",
            "306/306 [==============================] - 51s 167ms/step - loss: 0.3720 - accuracy: 0.9510 - val_loss: 0.7967 - val_accuracy: 0.9111\n",
            "Epoch 20/30\n",
            "306/306 [==============================] - 52s 169ms/step - loss: 0.1707 - accuracy: 0.9583 - val_loss: 0.6954 - val_accuracy: 0.9211\n",
            "Epoch 21/30\n",
            "306/306 [==============================] - 52s 169ms/step - loss: 0.0286 - accuracy: 0.9892 - val_loss: 0.6940 - val_accuracy: 0.9222\n",
            "Epoch 22/30\n",
            "306/306 [==============================] - 52s 169ms/step - loss: 0.0185 - accuracy: 0.9937 - val_loss: 0.4839 - val_accuracy: 0.9367\n",
            "Epoch 23/30\n",
            "306/306 [==============================] - 51s 167ms/step - loss: 0.0106 - accuracy: 0.9972 - val_loss: 0.6986 - val_accuracy: 0.9222\n",
            "Epoch 24/30\n",
            "306/306 [==============================] - 52s 170ms/step - loss: 0.0088 - accuracy: 0.9985 - val_loss: 0.5766 - val_accuracy: 0.9311\n",
            "Epoch 25/30\n",
            "306/306 [==============================] - 52s 169ms/step - loss: 0.0133 - accuracy: 0.9948 - val_loss: 0.6265 - val_accuracy: 0.9256\n",
            "Epoch 26/30\n",
            "306/306 [==============================] - 52s 169ms/step - loss: 0.0110 - accuracy: 0.9973 - val_loss: 0.6937 - val_accuracy: 0.9244\n",
            "Epoch 27/30\n",
            "306/306 [==============================] - 52s 169ms/step - loss: 0.8543 - accuracy: 0.9262 - val_loss: 0.9154 - val_accuracy: 0.9178\n",
            "Epoch 28/30\n",
            "306/306 [==============================] - 51s 167ms/step - loss: 0.1864 - accuracy: 0.9675 - val_loss: 0.3855 - val_accuracy: 0.9533\n",
            "Epoch 29/30\n",
            "306/306 [==============================] - 52s 168ms/step - loss: 0.0164 - accuracy: 0.9940 - val_loss: 0.3508 - val_accuracy: 0.9511\n",
            "Epoch 30/30\n",
            "306/306 [==============================] - 52s 170ms/step - loss: 0.0117 - accuracy: 0.9966 - val_loss: 0.7904 - val_accuracy: 0.9200\n"
          ]
        }
      ]
    },
    {
      "cell_type": "code",
      "source": [
        "model.evaluate_generator(generator=train_generator,steps=30)"
      ],
      "metadata": {
        "colab": {
          "base_uri": "https://localhost:8080/"
        },
        "id": "2-xSpRKNiWSG",
        "outputId": "b6acc64a-2111-4051-c941-6e163dd40c20"
      },
      "execution_count": 16,
      "outputs": [
        {
          "output_type": "stream",
          "name": "stderr",
          "text": [
            "/usr/local/lib/python3.7/dist-packages/ipykernel_launcher.py:1: UserWarning: `Model.evaluate_generator` is deprecated and will be removed in a future version. Please use `Model.evaluate`, which supports generators.\n",
            "  \"\"\"Entry point for launching an IPython kernel.\n"
          ]
        },
        {
          "output_type": "execute_result",
          "data": {
            "text/plain": [
              "[0.000513545994181186, 1.0]"
            ]
          },
          "metadata": {},
          "execution_count": 16
        }
      ]
    },
    {
      "cell_type": "code",
      "source": [
        "model.evaluate_generator(generator=val_generator,steps=30)"
      ],
      "metadata": {
        "colab": {
          "base_uri": "https://localhost:8080/"
        },
        "id": "I2vTpkrWl8rA",
        "outputId": "96885c8c-4e83-4f4f-b9ec-dcc6a19c3045"
      },
      "execution_count": 17,
      "outputs": [
        {
          "output_type": "stream",
          "name": "stderr",
          "text": [
            "/usr/local/lib/python3.7/dist-packages/ipykernel_launcher.py:1: UserWarning: `Model.evaluate_generator` is deprecated and will be removed in a future version. Please use `Model.evaluate`, which supports generators.\n",
            "  \"\"\"Entry point for launching an IPython kernel.\n"
          ]
        },
        {
          "output_type": "execute_result",
          "data": {
            "text/plain": [
              "[0.7904208302497864, 0.9200000166893005]"
            ]
          },
          "metadata": {},
          "execution_count": 17
        }
      ]
    },
    {
      "cell_type": "code",
      "source": [
        "import os \n",
        "import glob\n",
        "import pandas as pd\n",
        "\n",
        "Name = []\n",
        "\n",
        "for img in glob.glob(test_dir):\n",
        "    prediction = model.predict_generator(test_generator,steps=3050,verbose=1)\n",
        "    for name in os.listdir('/content/drive/MyDrive/sprints project /testset/Scenes testing test'):\n",
        "         Name.append(name[0::])\n",
        "\n",
        "\n",
        "\n",
        "predicted_class_indics=np.argmax(prediction,axis=1)\n",
        "Name.sort()\n",
        "Temp = {'Image':Name, 'Label':predicted_class_indics}\n",
        "temp = pd.DataFrame(Temp)\n",
        "temp.to_csv('/content/results.csv', index=False)"
      ],
      "metadata": {
        "colab": {
          "base_uri": "https://localhost:8080/"
        },
        "id": "uwx8jAIueTrz",
        "outputId": "ddf84f51-14f0-4431-f285-12ac516a2b95"
      },
      "execution_count": 23,
      "outputs": [
        {
          "output_type": "stream",
          "name": "stderr",
          "text": [
            "/usr/local/lib/python3.7/dist-packages/ipykernel_launcher.py:8: UserWarning: `Model.predict_generator` is deprecated and will be removed in a future version. Please use `Model.predict`, which supports generators.\n",
            "  \n"
          ]
        },
        {
          "output_type": "stream",
          "name": "stdout",
          "text": [
            " 102/3050 [>.............................] - ETA: 7:18"
          ]
        },
        {
          "output_type": "stream",
          "name": "stderr",
          "text": [
            "WARNING:tensorflow:Your input ran out of data; interrupting training. Make sure that your dataset or generator can generate at least `steps_per_epoch * epochs` batches (in this case, 3050 batches). You may need to use the repeat() function when building your dataset.\n"
          ]
        },
        {
          "output_type": "stream",
          "name": "stdout",
          "text": [
            "\b\b\b\b\b\b\b\b\b\b\b\b\b\b\b\b\b\b\b\b\b\b\b\b\b\b\b\b\b\b\b\b\b\b\b\b\b\b\b\b\b\b\b\b\b\b\b\b\b\b\b\b\b\b\r3050/3050 [==============================] - 15s 5ms/step\n"
          ]
        }
      ]
    },
    {
      "cell_type": "code",
      "source": [
        "temp"
      ],
      "metadata": {
        "colab": {
          "base_uri": "https://localhost:8080/",
          "height": 424
        },
        "id": "EoFG5YtseTpb",
        "outputId": "ba985b9a-9962-4cb5-c319-c90dd0bb3ea3"
      },
      "execution_count": null,
      "outputs": [
        {
          "output_type": "execute_result",
          "data": {
            "text/plain": [
              "         Image  Label\n",
              "0     1020.jpg      0\n",
              "1      103.jpg      0\n",
              "2     1053.jpg      0\n",
              "3     1081.jpg      0\n",
              "4     1082.jpg      0\n",
              "...        ...    ...\n",
              "3045   920.jpg      0\n",
              "3046   949.jpg      0\n",
              "3047   952.jpg      0\n",
              "3048   961.jpg      0\n",
              "3049   989.jpg      0\n",
              "\n",
              "[3050 rows x 2 columns]"
            ],
            "text/html": [
              "\n",
              "  <div id=\"df-ec2f15a3-20bb-400f-a608-5136f3d608cb\">\n",
              "    <div class=\"colab-df-container\">\n",
              "      <div>\n",
              "<style scoped>\n",
              "    .dataframe tbody tr th:only-of-type {\n",
              "        vertical-align: middle;\n",
              "    }\n",
              "\n",
              "    .dataframe tbody tr th {\n",
              "        vertical-align: top;\n",
              "    }\n",
              "\n",
              "    .dataframe thead th {\n",
              "        text-align: right;\n",
              "    }\n",
              "</style>\n",
              "<table border=\"1\" class=\"dataframe\">\n",
              "  <thead>\n",
              "    <tr style=\"text-align: right;\">\n",
              "      <th></th>\n",
              "      <th>Image</th>\n",
              "      <th>Label</th>\n",
              "    </tr>\n",
              "  </thead>\n",
              "  <tbody>\n",
              "    <tr>\n",
              "      <th>0</th>\n",
              "      <td>1020.jpg</td>\n",
              "      <td>0</td>\n",
              "    </tr>\n",
              "    <tr>\n",
              "      <th>1</th>\n",
              "      <td>103.jpg</td>\n",
              "      <td>0</td>\n",
              "    </tr>\n",
              "    <tr>\n",
              "      <th>2</th>\n",
              "      <td>1053.jpg</td>\n",
              "      <td>0</td>\n",
              "    </tr>\n",
              "    <tr>\n",
              "      <th>3</th>\n",
              "      <td>1081.jpg</td>\n",
              "      <td>0</td>\n",
              "    </tr>\n",
              "    <tr>\n",
              "      <th>4</th>\n",
              "      <td>1082.jpg</td>\n",
              "      <td>0</td>\n",
              "    </tr>\n",
              "    <tr>\n",
              "      <th>...</th>\n",
              "      <td>...</td>\n",
              "      <td>...</td>\n",
              "    </tr>\n",
              "    <tr>\n",
              "      <th>3045</th>\n",
              "      <td>920.jpg</td>\n",
              "      <td>0</td>\n",
              "    </tr>\n",
              "    <tr>\n",
              "      <th>3046</th>\n",
              "      <td>949.jpg</td>\n",
              "      <td>0</td>\n",
              "    </tr>\n",
              "    <tr>\n",
              "      <th>3047</th>\n",
              "      <td>952.jpg</td>\n",
              "      <td>0</td>\n",
              "    </tr>\n",
              "    <tr>\n",
              "      <th>3048</th>\n",
              "      <td>961.jpg</td>\n",
              "      <td>0</td>\n",
              "    </tr>\n",
              "    <tr>\n",
              "      <th>3049</th>\n",
              "      <td>989.jpg</td>\n",
              "      <td>0</td>\n",
              "    </tr>\n",
              "  </tbody>\n",
              "</table>\n",
              "<p>3050 rows × 2 columns</p>\n",
              "</div>\n",
              "      <button class=\"colab-df-convert\" onclick=\"convertToInteractive('df-ec2f15a3-20bb-400f-a608-5136f3d608cb')\"\n",
              "              title=\"Convert this dataframe to an interactive table.\"\n",
              "              style=\"display:none;\">\n",
              "        \n",
              "  <svg xmlns=\"http://www.w3.org/2000/svg\" height=\"24px\"viewBox=\"0 0 24 24\"\n",
              "       width=\"24px\">\n",
              "    <path d=\"M0 0h24v24H0V0z\" fill=\"none\"/>\n",
              "    <path d=\"M18.56 5.44l.94 2.06.94-2.06 2.06-.94-2.06-.94-.94-2.06-.94 2.06-2.06.94zm-11 1L8.5 8.5l.94-2.06 2.06-.94-2.06-.94L8.5 2.5l-.94 2.06-2.06.94zm10 10l.94 2.06.94-2.06 2.06-.94-2.06-.94-.94-2.06-.94 2.06-2.06.94z\"/><path d=\"M17.41 7.96l-1.37-1.37c-.4-.4-.92-.59-1.43-.59-.52 0-1.04.2-1.43.59L10.3 9.45l-7.72 7.72c-.78.78-.78 2.05 0 2.83L4 21.41c.39.39.9.59 1.41.59.51 0 1.02-.2 1.41-.59l7.78-7.78 2.81-2.81c.8-.78.8-2.07 0-2.86zM5.41 20L4 18.59l7.72-7.72 1.47 1.35L5.41 20z\"/>\n",
              "  </svg>\n",
              "      </button>\n",
              "      \n",
              "  <style>\n",
              "    .colab-df-container {\n",
              "      display:flex;\n",
              "      flex-wrap:wrap;\n",
              "      gap: 12px;\n",
              "    }\n",
              "\n",
              "    .colab-df-convert {\n",
              "      background-color: #E8F0FE;\n",
              "      border: none;\n",
              "      border-radius: 50%;\n",
              "      cursor: pointer;\n",
              "      display: none;\n",
              "      fill: #1967D2;\n",
              "      height: 32px;\n",
              "      padding: 0 0 0 0;\n",
              "      width: 32px;\n",
              "    }\n",
              "\n",
              "    .colab-df-convert:hover {\n",
              "      background-color: #E2EBFA;\n",
              "      box-shadow: 0px 1px 2px rgba(60, 64, 67, 0.3), 0px 1px 3px 1px rgba(60, 64, 67, 0.15);\n",
              "      fill: #174EA6;\n",
              "    }\n",
              "\n",
              "    [theme=dark] .colab-df-convert {\n",
              "      background-color: #3B4455;\n",
              "      fill: #D2E3FC;\n",
              "    }\n",
              "\n",
              "    [theme=dark] .colab-df-convert:hover {\n",
              "      background-color: #434B5C;\n",
              "      box-shadow: 0px 1px 3px 1px rgba(0, 0, 0, 0.15);\n",
              "      filter: drop-shadow(0px 1px 2px rgba(0, 0, 0, 0.3));\n",
              "      fill: #FFFFFF;\n",
              "    }\n",
              "  </style>\n",
              "\n",
              "      <script>\n",
              "        const buttonEl =\n",
              "          document.querySelector('#df-ec2f15a3-20bb-400f-a608-5136f3d608cb button.colab-df-convert');\n",
              "        buttonEl.style.display =\n",
              "          google.colab.kernel.accessAllowed ? 'block' : 'none';\n",
              "\n",
              "        async function convertToInteractive(key) {\n",
              "          const element = document.querySelector('#df-ec2f15a3-20bb-400f-a608-5136f3d608cb');\n",
              "          const dataTable =\n",
              "            await google.colab.kernel.invokeFunction('convertToInteractive',\n",
              "                                                     [key], {});\n",
              "          if (!dataTable) return;\n",
              "\n",
              "          const docLinkHtml = 'Like what you see? Visit the ' +\n",
              "            '<a target=\"_blank\" href=https://colab.research.google.com/notebooks/data_table.ipynb>data table notebook</a>'\n",
              "            + ' to learn more about interactive tables.';\n",
              "          element.innerHTML = '';\n",
              "          dataTable['output_type'] = 'display_data';\n",
              "          await google.colab.output.renderOutput(dataTable, element);\n",
              "          const docLink = document.createElement('div');\n",
              "          docLink.innerHTML = docLinkHtml;\n",
              "          element.appendChild(docLink);\n",
              "        }\n",
              "      </script>\n",
              "    </div>\n",
              "  </div>\n",
              "  "
            ]
          },
          "metadata": {},
          "execution_count": 24
        }
      ]
    },
    {
      "cell_type": "code",
      "source": [],
      "metadata": {
        "id": "UPtXk-p8eTnD"
      },
      "execution_count": null,
      "outputs": []
    },
    {
      "cell_type": "code",
      "source": [],
      "metadata": {
        "id": "MreewTcDeTkb"
      },
      "execution_count": null,
      "outputs": []
    },
    {
      "cell_type": "code",
      "source": [],
      "metadata": {
        "id": "gBYwjur2eTgL"
      },
      "execution_count": null,
      "outputs": []
    },
    {
      "cell_type": "code",
      "source": [],
      "metadata": {
        "id": "RAB2JW4XeTdE"
      },
      "execution_count": null,
      "outputs": []
    }
  ]
}