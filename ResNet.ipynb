{
  "nbformat": 4,
  "nbformat_minor": 0,
  "metadata": {
    "colab": {
      "provenance": [],
      "collapsed_sections": []
    },
    "kernelspec": {
      "name": "python3",
      "display_name": "Python 3"
    },
    "language_info": {
      "name": "python"
    },
    "accelerator": "GPU",
    "gpuClass": "standard"
  },
  "cells": [
    {
      "cell_type": "code",
      "execution_count": 1,
      "metadata": {
        "colab": {
          "base_uri": "https://localhost:8080/"
        },
        "id": "UhnFTlVg8HED",
        "outputId": "82ed66a4-15ec-4022-cd95-164052212616"
      },
      "outputs": [
        {
          "output_type": "stream",
          "name": "stdout",
          "text": [
            "Mounted at /content/drive\n"
          ]
        }
      ],
      "source": [
        "from google.colab import drive\n",
        "drive.mount('/content/drive')"
      ]
    },
    {
      "cell_type": "code",
      "source": [
        "pip install split_folders"
      ],
      "metadata": {
        "id": "Hqbw0_E28Lvh",
        "colab": {
          "base_uri": "https://localhost:8080/"
        },
        "outputId": "74ff416e-d350-47f9-c3fb-3ac0398595b6"
      },
      "execution_count": 2,
      "outputs": [
        {
          "output_type": "stream",
          "name": "stdout",
          "text": [
            "Looking in indexes: https://pypi.org/simple, https://us-python.pkg.dev/colab-wheels/public/simple/\n",
            "Collecting split_folders\n",
            "  Downloading split_folders-0.5.1-py3-none-any.whl (8.4 kB)\n",
            "Installing collected packages: split-folders\n",
            "Successfully installed split-folders-0.5.1\n"
          ]
        }
      ]
    },
    {
      "cell_type": "code",
      "source": [
        "img_folder='/content/drive/MyDrive/sprints project /Scenes training set'\n",
        "import splitfolders\n",
        "splitfolders.ratio(img_folder, output=\"output\",\n",
        "    seed=1337, ratio=(.7,0.3), group_prefix=None, move=False)"
      ],
      "metadata": {
        "id": "vbpB9aKr8L1E",
        "colab": {
          "base_uri": "https://localhost:8080/"
        },
        "outputId": "e3673ae1-7fe1-4ef7-9f2a-476864570500"
      },
      "execution_count": 3,
      "outputs": [
        {
          "output_type": "stream",
          "name": "stderr",
          "text": [
            "Copying files: 14034 files [05:14, 44.58 files/s] \n"
          ]
        }
      ]
    },
    {
      "cell_type": "code",
      "source": [
        "train_dir = '/content/output/train'\n",
        "val_dir = '/content/output/val'\n",
        "test_dir = '/content/drive/MyDrive/sprints project /testset/Scenes testing test'"
      ],
      "metadata": {
        "id": "q-bevblm8L5G"
      },
      "execution_count": 4,
      "outputs": []
    },
    {
      "cell_type": "code",
      "source": [
        "import numpy as np\n",
        "import tensorflow as tf\n",
        "from tensorflow import keras\n"
      ],
      "metadata": {
        "id": "t0V1_58F8L8a"
      },
      "execution_count": 5,
      "outputs": []
    },
    {
      "cell_type": "code",
      "source": [
        "from keras.preprocessing.image import ImageDataGenerator, load_img\n",
        "train_datagen = ImageDataGenerator(rescale = 1./255,\n",
        "                                   shear_range = 0.2,\n",
        "                                   zoom_range = 0.2,\n",
        "                                   horizontal_flip = True)\n",
        " \n",
        "val_datagen = ImageDataGenerator(rescale = 1./255)\n",
        "test_datagen = ImageDataGenerator(rescale = 1./255)\n",
        "training_set = train_datagen.flow_from_directory(train_dir,\n",
        "                                                 target_size = (224, 224),\n",
        "                                                 batch_size = 32,\n",
        "                                                 class_mode = 'categorical')\n",
        " \n",
        "val_set = val_datagen.flow_from_directory(val_dir,\n",
        "                                            target_size = (224, 224),\n",
        "                                            batch_size = 32,\n",
        "                                            class_mode = 'categorical')\n",
        "test_set = test_datagen.flow_from_directory(\n",
        "    directory=r'/content/drive/MyDrive/sprints project /testset',\n",
        "    target_size=(224, 224),\n",
        "    color_mode=\"rgb\",\n",
        "    batch_size=1,\n",
        "    class_mode=None,\n",
        "    shuffle=False,\n",
        "    seed=42\n",
        ")"
      ],
      "metadata": {
        "colab": {
          "base_uri": "https://localhost:8080/"
        },
        "id": "iB6CcLXMZOao",
        "outputId": "0924b0ad-e6bc-4094-8596-f2c997db247d"
      },
      "execution_count": 6,
      "outputs": [
        {
          "output_type": "stream",
          "name": "stdout",
          "text": [
            "Found 9820 images belonging to 6 classes.\n",
            "Found 4214 images belonging to 6 classes.\n",
            "Found 3050 images belonging to 1 classes.\n"
          ]
        }
      ]
    },
    {
      "cell_type": "code",
      "source": [
        "import matplotlib.pyplot as plt\n",
        "import numpy as np\n",
        "import tensorflow as tf\n",
        "from tensorflow import keras\n",
        "from keras.layers import Activation"
      ],
      "metadata": {
        "id": "VxOT1fgXd3NE"
      },
      "execution_count": 7,
      "outputs": []
    },
    {
      "cell_type": "code",
      "source": [
        "class ResUnit(keras.layers.Layer):\n",
        "    def __init__(self, filters,activation=\"relu\",strides=1, **kwargs):\n",
        "        super().__init__(**kwargs)\n",
        "        self.filters = filters\n",
        "        self.strides = strides\n",
        "        self.activation = keras.activations.get(activation)\n",
        "        self.main_layers = [\n",
        "            keras.layers.Conv2D(self.filters,(3,3),strides=self.strides, \n",
        "                                padding=\"same\", use_bias=False),\n",
        "            keras.layers.BatchNormalization(),\n",
        "            self.activation,\n",
        "            keras.layers.Conv2D(self.filters, (3,3), strides=1, \n",
        "                                padding=\"same\", use_bias = False),\n",
        "            keras.layers.BatchNormalization()]\n",
        "        self.skip_layer = []        \n",
        "        if strides > 1:\n",
        "            self.skip_layer = [keras.layers.Conv2D(self.filters,1,\n",
        "                            strides=self.strides,padding=\"same\", use_bias=False),\n",
        "                               keras.layers.BatchNormalization()\n",
        "                              ]\n",
        "    def call(self,inputs):\n",
        "        x = inputs\n",
        "        for layer in self.main_layers:\n",
        "            x = layer(x)\n",
        "        skip_input = inputs\n",
        "        for layer in self.skip_layer:\n",
        "            skip_input = layer(skip_input)\n",
        "        return self.activation(x + skip_input)\n",
        "    def get_config(self):\n",
        "        base_config= super().get_config()\n",
        "        return {**base_config, \n",
        "                \"filters\": self.filters, \n",
        "                \"activation\":self.activation,\n",
        "                \"strides\": self.strides\n",
        "               }"
      ],
      "metadata": {
        "id": "keFOIset8vYE"
      },
      "execution_count": 8,
      "outputs": []
    },
    {
      "cell_type": "code",
      "source": [
        "def getModel_ResNet34(layer_activation=\"relu\", \n",
        "                 input_shape=(32,32,3),\n",
        "                 output_dim=6,\n",
        "                 out_activation=\"softmax\"):\n",
        "    model = keras.models.Sequential()\n",
        "    model.add(keras.layers.InputLayer(input_shape= input_shape))\n",
        "    model.add(keras.layers.Conv2D(64,7,strides=2,padding=\"same\",use_bias=False))\n",
        "    model.add(keras.layers.BatchNormalization())\n",
        "    model.add(keras.layers.Activation(layer_activation))\n",
        "    model.add(keras.layers.MaxPool2D(pool_size=3,strides=2,padding=\"same\"))\n",
        "    prev_filter = 64\n",
        "    for filters in [64]*3+[128]*4+[256]*6+[512]*3:\n",
        "        strides = 1 if prev_filter == filters else 2\n",
        "        model.add(ResUnit(filters, strides=strides, activation=layer_activation))\n",
        "        prev_filter = filters\n",
        "    model.add(keras.layers.GlobalAvgPool2D())\n",
        "    model.add(keras.layers.Flatten())\n",
        "    model.add(keras.layers.Dense(output_dim,activation=out_activation))\n",
        "    return model"
      ],
      "metadata": {
        "id": "61-yTKsq8vbE"
      },
      "execution_count": 9,
      "outputs": []
    },
    {
      "cell_type": "code",
      "source": [
        "from keras.backend import sigmoid\n",
        "from keras.utils.generic_utils import get_custom_objects\n",
        "from keras.layers import Activation\n",
        "def swish(x, beta=1):\n",
        "    return (x * sigmoid(beta * x))"
      ],
      "metadata": {
        "id": "blCQBSgJ8veC"
      },
      "execution_count": 10,
      "outputs": []
    },
    {
      "cell_type": "code",
      "source": [
        "from keras.utils.generic_utils import get_custom_objects\n",
        "get_custom_objects().update({\"ResUnit\": ResUnit})\n",
        "get_custom_objects().update({\"swish\": swish})"
      ],
      "metadata": {
        "id": "zORR6dTa8vgl"
      },
      "execution_count": 11,
      "outputs": []
    },
    {
      "cell_type": "code",
      "source": [
        "learning_rate = 0.001\n",
        "lr_scheduler = keras.optimizers.schedules.ExponentialDecay(\n",
        "    initial_learning_rate=learning_rate,\n",
        "    decay_steps= 100000,\n",
        "    decay_rate= 0.96,\n",
        "    staircase=True)\n",
        "\n",
        "model = getModel_ResNet34(layer_activation=\"swish\")\n",
        "model.summary()\n",
        "model.compile(optimizer=keras.optimizers.Adam(learning_rate=lr_scheduler),\n",
        "                    loss=\"categorical_crossentropy\", metrics=[\"accuracy\"])"
      ],
      "metadata": {
        "colab": {
          "base_uri": "https://localhost:8080/"
        },
        "id": "zTyPNddY8vmj",
        "outputId": "470acf98-e744-4dab-b4c6-0e3224807803"
      },
      "execution_count": 12,
      "outputs": [
        {
          "output_type": "stream",
          "name": "stdout",
          "text": [
            "Model: \"sequential\"\n",
            "_________________________________________________________________\n",
            " Layer (type)                Output Shape              Param #   \n",
            "=================================================================\n",
            " conv2d (Conv2D)             (None, 16, 16, 64)        9408      \n",
            "                                                                 \n",
            " batch_normalization (BatchN  (None, 16, 16, 64)       256       \n",
            " ormalization)                                                   \n",
            "                                                                 \n",
            " activation (Activation)     (None, 16, 16, 64)        0         \n",
            "                                                                 \n",
            " max_pooling2d (MaxPooling2D  (None, 8, 8, 64)         0         \n",
            " )                                                               \n",
            "                                                                 \n",
            " res_unit (ResUnit)          (None, 8, 8, 64)          74240     \n",
            "                                                                 \n",
            " res_unit_1 (ResUnit)        (None, 8, 8, 64)          74240     \n",
            "                                                                 \n",
            " res_unit_2 (ResUnit)        (None, 8, 8, 64)          74240     \n",
            "                                                                 \n",
            " res_unit_3 (ResUnit)        (None, 4, 4, 128)         230912    \n",
            "                                                                 \n",
            " res_unit_4 (ResUnit)        (None, 4, 4, 128)         295936    \n",
            "                                                                 \n",
            " res_unit_5 (ResUnit)        (None, 4, 4, 128)         295936    \n",
            "                                                                 \n",
            " res_unit_6 (ResUnit)        (None, 4, 4, 128)         295936    \n",
            "                                                                 \n",
            " res_unit_7 (ResUnit)        (None, 2, 2, 256)         920576    \n",
            "                                                                 \n",
            " res_unit_8 (ResUnit)        (None, 2, 2, 256)         1181696   \n",
            "                                                                 \n",
            " res_unit_9 (ResUnit)        (None, 2, 2, 256)         1181696   \n",
            "                                                                 \n",
            " res_unit_10 (ResUnit)       (None, 2, 2, 256)         1181696   \n",
            "                                                                 \n",
            " res_unit_11 (ResUnit)       (None, 2, 2, 256)         1181696   \n",
            "                                                                 \n",
            " res_unit_12 (ResUnit)       (None, 2, 2, 256)         1181696   \n",
            "                                                                 \n",
            " res_unit_13 (ResUnit)       (None, 1, 1, 512)         3676160   \n",
            "                                                                 \n",
            " res_unit_14 (ResUnit)       (None, 1, 1, 512)         4722688   \n",
            "                                                                 \n",
            " res_unit_15 (ResUnit)       (None, 1, 1, 512)         4722688   \n",
            "                                                                 \n",
            " global_average_pooling2d (G  (None, 512)              0         \n",
            " lobalAveragePooling2D)                                          \n",
            "                                                                 \n",
            " flatten (Flatten)           (None, 512)               0         \n",
            "                                                                 \n",
            " dense (Dense)               (None, 6)                 3078      \n",
            "                                                                 \n",
            "=================================================================\n",
            "Total params: 21,304,774\n",
            "Trainable params: 21,287,750\n",
            "Non-trainable params: 17,024\n",
            "_________________________________________________________________\n"
          ]
        }
      ]
    },
    {
      "cell_type": "code",
      "source": [
        "from tensorflow.keras.optimizers import Adam\n",
        "from tensorflow.keras.callbacks import ModelCheckpoint, EarlyStopping, ReduceLROnPlateau\n",
        "\n",
        "optm = Adam(lr=0.0001)\n",
        "model.compile(loss='binary_crossentropy', optimizer=optm,  metrics=['accuracy'])\n",
        "\n",
        "from keras.callbacks import EarlyStopping,ReduceLROnPlateau\n",
        "EarlyStopping = EarlyStopping(monitor='val_accuracy',  min_delta=.01,  patience=7,verbose=1, mode='max', baseline=None,\n",
        "                              restore_best_weights=True)\n",
        "\n",
        "rlr = ReduceLROnPlateau( monitor=\"val_accuracy\",factor=0.01,patience=3,verbose=0,mode=\"max\", min_delta=0.01)\n",
        "\n",
        "model_save = ModelCheckpoint('./resnet.h5', save_best_only = True,save_weights_only = False, monitor = 'val_loss', \n",
        "                             mode = 'min', verbose = 1)\n",
        "\n"
      ],
      "metadata": {
        "id": "8oe6V8RQ9M2p",
        "colab": {
          "base_uri": "https://localhost:8080/"
        },
        "outputId": "93df7157-f439-4a70-e14e-172d3f2ce73f"
      },
      "execution_count": 16,
      "outputs": [
        {
          "output_type": "stream",
          "name": "stderr",
          "text": [
            "/usr/local/lib/python3.7/dist-packages/keras/optimizer_v2/adam.py:105: UserWarning: The `lr` argument is deprecated, use `learning_rate` instead.\n",
            "  super(Adam, self).__init__(name, **kwargs)\n"
          ]
        }
      ]
    },
    {
      "cell_type": "code",
      "source": [
        "resnet_history = model.fit(training_set, steps_per_epoch = 250 , epochs = 25,\n",
        "                              validation_data = val_set,callbacks=[EarlyStopping, model_save,rlr])"
      ],
      "metadata": {
        "colab": {
          "base_uri": "https://localhost:8080/"
        },
        "id": "VX-v-Nbj9M6U",
        "outputId": "50862114-ce11-4390-c966-e34de58da426"
      },
      "execution_count": 17,
      "outputs": [
        {
          "output_type": "stream",
          "name": "stdout",
          "text": [
            "Epoch 1/25\n",
            "250/250 [==============================] - ETA: 0s - loss: 0.2569 - accuracy: 0.7390\n",
            "Epoch 1: val_loss improved from inf to 0.19502, saving model to ./resnet.h5\n",
            "250/250 [==============================] - 140s 426ms/step - loss: 0.2569 - accuracy: 0.7390 - val_loss: 0.1950 - val_accuracy: 0.7786 - lr: 1.0000e-04\n",
            "Epoch 2/25\n",
            "250/250 [==============================] - ETA: 0s - loss: 0.1839 - accuracy: 0.7725\n",
            "Epoch 2: val_loss did not improve from 0.19502\n",
            "250/250 [==============================] - 105s 421ms/step - loss: 0.1839 - accuracy: 0.7725 - val_loss: 0.2291 - val_accuracy: 0.7000 - lr: 1.0000e-04\n",
            "Epoch 3/25\n",
            "250/250 [==============================] - ETA: 0s - loss: 0.1679 - accuracy: 0.7981\n",
            "Epoch 3: val_loss improved from 0.19502 to 0.18089, saving model to ./resnet.h5\n",
            "250/250 [==============================] - 106s 424ms/step - loss: 0.1679 - accuracy: 0.7981 - val_loss: 0.1809 - val_accuracy: 0.7779 - lr: 1.0000e-04\n",
            "Epoch 4/25\n",
            "250/250 [==============================] - ETA: 0s - loss: 0.1593 - accuracy: 0.8108\n",
            "Epoch 4: val_loss improved from 0.18089 to 0.14712, saving model to ./resnet.h5\n",
            "250/250 [==============================] - 106s 425ms/step - loss: 0.1593 - accuracy: 0.8108 - val_loss: 0.1471 - val_accuracy: 0.8220 - lr: 1.0000e-04\n",
            "Epoch 5/25\n",
            "250/250 [==============================] - ETA: 0s - loss: 0.1458 - accuracy: 0.8277\n",
            "Epoch 5: val_loss improved from 0.14712 to 0.13189, saving model to ./resnet.h5\n",
            "250/250 [==============================] - 106s 424ms/step - loss: 0.1458 - accuracy: 0.8277 - val_loss: 0.1319 - val_accuracy: 0.8427 - lr: 1.0000e-04\n",
            "Epoch 6/25\n",
            "250/250 [==============================] - ETA: 0s - loss: 0.1465 - accuracy: 0.8282\n",
            "Epoch 6: val_loss did not improve from 0.13189\n",
            "250/250 [==============================] - 105s 421ms/step - loss: 0.1465 - accuracy: 0.8282 - val_loss: 0.1465 - val_accuracy: 0.8132 - lr: 1.0000e-04\n",
            "Epoch 7/25\n",
            "250/250 [==============================] - ETA: 0s - loss: 0.1354 - accuracy: 0.8448\n",
            "Epoch 7: val_loss did not improve from 0.13189\n",
            "250/250 [==============================] - 105s 420ms/step - loss: 0.1354 - accuracy: 0.8448 - val_loss: 0.1654 - val_accuracy: 0.7874 - lr: 1.0000e-04\n",
            "Epoch 8/25\n",
            "250/250 [==============================] - ETA: 0s - loss: 0.1341 - accuracy: 0.8465\n",
            "Epoch 8: val_loss did not improve from 0.13189\n",
            "250/250 [==============================] - 105s 421ms/step - loss: 0.1341 - accuracy: 0.8465 - val_loss: 0.1849 - val_accuracy: 0.7670 - lr: 1.0000e-04\n",
            "Epoch 9/25\n",
            "250/250 [==============================] - ETA: 0s - loss: 0.1270 - accuracy: 0.8548\n",
            "Epoch 9: val_loss improved from 0.13189 to 0.11861, saving model to ./resnet.h5\n",
            "250/250 [==============================] - 107s 425ms/step - loss: 0.1270 - accuracy: 0.8548 - val_loss: 0.1186 - val_accuracy: 0.8600 - lr: 1.0000e-06\n",
            "Epoch 10/25\n",
            "250/250 [==============================] - ETA: 0s - loss: 0.1215 - accuracy: 0.8599\n",
            "Epoch 10: val_loss improved from 0.11861 to 0.11502, saving model to ./resnet.h5\n",
            "250/250 [==============================] - 107s 427ms/step - loss: 0.1215 - accuracy: 0.8599 - val_loss: 0.1150 - val_accuracy: 0.8671 - lr: 1.0000e-06\n",
            "Epoch 11/25\n",
            "250/250 [==============================] - ETA: 0s - loss: 0.1180 - accuracy: 0.8671\n",
            "Epoch 11: val_loss improved from 0.11502 to 0.11269, saving model to ./resnet.h5\n",
            "250/250 [==============================] - 107s 426ms/step - loss: 0.1180 - accuracy: 0.8671 - val_loss: 0.1127 - val_accuracy: 0.8690 - lr: 1.0000e-06\n",
            "Epoch 12/25\n",
            "250/250 [==============================] - ETA: 0s - loss: 0.1129 - accuracy: 0.8759\n",
            "Epoch 12: val_loss improved from 0.11269 to 0.11067, saving model to ./resnet.h5\n",
            "250/250 [==============================] - 106s 425ms/step - loss: 0.1129 - accuracy: 0.8759 - val_loss: 0.1107 - val_accuracy: 0.8714 - lr: 1.0000e-06\n",
            "Epoch 13/25\n",
            "250/250 [==============================] - ETA: 0s - loss: 0.1170 - accuracy: 0.8680\n",
            "Epoch 13: val_loss improved from 0.11067 to 0.11028, saving model to ./resnet.h5\n",
            "250/250 [==============================] - 107s 426ms/step - loss: 0.1170 - accuracy: 0.8680 - val_loss: 0.1103 - val_accuracy: 0.8716 - lr: 1.0000e-06\n",
            "Epoch 14/25\n",
            "250/250 [==============================] - ETA: 0s - loss: 0.1144 - accuracy: 0.8748\n",
            "Epoch 14: val_loss improved from 0.11028 to 0.10982, saving model to ./resnet.h5\n",
            "250/250 [==============================] - 106s 425ms/step - loss: 0.1144 - accuracy: 0.8748 - val_loss: 0.1098 - val_accuracy: 0.8733 - lr: 1.0000e-06\n",
            "Epoch 15/25\n",
            "250/250 [==============================] - ETA: 0s - loss: 0.1146 - accuracy: 0.8724\n",
            "Epoch 15: val_loss improved from 0.10982 to 0.10877, saving model to ./resnet.h5\n",
            "250/250 [==============================] - 106s 425ms/step - loss: 0.1146 - accuracy: 0.8724 - val_loss: 0.1088 - val_accuracy: 0.8747 - lr: 1.0000e-06\n",
            "Epoch 16/25\n",
            "250/250 [==============================] - ETA: 0s - loss: 0.1185 - accuracy: 0.8644\n",
            "Epoch 16: val_loss improved from 0.10877 to 0.10853, saving model to ./resnet.h5\n",
            "250/250 [==============================] - 107s 428ms/step - loss: 0.1185 - accuracy: 0.8644 - val_loss: 0.1085 - val_accuracy: 0.8752 - lr: 1.0000e-08\n",
            "Epoch 17/25\n",
            "250/250 [==============================] - ETA: 0s - loss: 0.1127 - accuracy: 0.8749\n",
            "Epoch 17: val_loss did not improve from 0.10853\n",
            "250/250 [==============================] - 106s 422ms/step - loss: 0.1127 - accuracy: 0.8749 - val_loss: 0.1088 - val_accuracy: 0.8733 - lr: 1.0000e-08\n",
            "Epoch 18/25\n",
            "250/250 [==============================] - ETA: 0s - loss: 0.1141 - accuracy: 0.8669\n",
            "Epoch 18: val_loss did not improve from 0.10853\n",
            "250/250 [==============================] - 105s 419ms/step - loss: 0.1141 - accuracy: 0.8669 - val_loss: 0.1090 - val_accuracy: 0.8740 - lr: 1.0000e-08\n",
            "Epoch 19/25\n",
            "250/250 [==============================] - ETA: 0s - loss: 0.1118 - accuracy: 0.8727Restoring model weights from the end of the best epoch: 12.\n",
            "\n",
            "Epoch 19: val_loss improved from 0.10853 to 0.10832, saving model to ./resnet.h5\n",
            "250/250 [==============================] - 107s 426ms/step - loss: 0.1118 - accuracy: 0.8727 - val_loss: 0.1083 - val_accuracy: 0.8754 - lr: 1.0000e-10\n",
            "Epoch 19: early stopping\n"
          ]
        }
      ]
    },
    {
      "cell_type": "code",
      "source": [
        "STEP_SIZE_VALID=val_set.n//val_set.batch_size\n",
        "model.evaluate_generator(generator=val_set,\n",
        "steps=STEP_SIZE_VALID)"
      ],
      "metadata": {
        "id": "pwrpsf-l-nIH",
        "colab": {
          "base_uri": "https://localhost:8080/"
        },
        "outputId": "b05b45cb-1942-4a44-d46a-4e26e7ec6c76"
      },
      "execution_count": 18,
      "outputs": [
        {
          "output_type": "stream",
          "name": "stderr",
          "text": [
            "/usr/local/lib/python3.7/dist-packages/ipykernel_launcher.py:3: UserWarning: `Model.evaluate_generator` is deprecated and will be removed in a future version. Please use `Model.evaluate`, which supports generators.\n",
            "  This is separate from the ipykernel package so we can avoid doing imports until\n"
          ]
        },
        {
          "output_type": "execute_result",
          "data": {
            "text/plain": [
              "[0.11070658266544342, 0.871421754360199]"
            ]
          },
          "metadata": {},
          "execution_count": 18
        }
      ]
    },
    {
      "cell_type": "code",
      "source": [
        "STEP_SIZE_TRAIN=training_set.n//training_set.batch_size\n",
        "model.evaluate_generator(generator=training_set,\n",
        "steps=STEP_SIZE_TRAIN)"
      ],
      "metadata": {
        "colab": {
          "base_uri": "https://localhost:8080/"
        },
        "id": "oKSIU01RkSnR",
        "outputId": "df6d278a-ef38-4d4d-ac43-094fa2a935d5"
      },
      "execution_count": 19,
      "outputs": [
        {
          "output_type": "stream",
          "name": "stderr",
          "text": [
            "/usr/local/lib/python3.7/dist-packages/ipykernel_launcher.py:3: UserWarning: `Model.evaluate_generator` is deprecated and will be removed in a future version. Please use `Model.evaluate`, which supports generators.\n",
            "  This is separate from the ipykernel package so we can avoid doing imports until\n"
          ]
        },
        {
          "output_type": "execute_result",
          "data": {
            "text/plain": [
              "[0.10399972647428513, 0.8868464231491089]"
            ]
          },
          "metadata": {},
          "execution_count": 19
        }
      ]
    },
    {
      "cell_type": "code",
      "source": [
        "import os \n",
        "import glob\n",
        "import pandas as pd\n",
        "\n",
        "Name = []\n",
        "\n",
        "for img in glob.glob(test_dir):\n",
        "    prediction = model.predict_generator(test_set,steps=3050,verbose=1)\n",
        "    for name in os.listdir(test_dir):\n",
        "         Name.append(name[0::])\n",
        "\n",
        "\n",
        "\n",
        "predicted_class_indics=np.argmax(prediction,axis=1)\n",
        "Name.sort()\n",
        "Temp = {'Image':Name, 'Label':predicted_class_indics}\n",
        "temp = pd.DataFrame(Temp)\n",
        "temp.to_csv('/content/results.csv', index=False)"
      ],
      "metadata": {
        "id": "zx-_vDzb9fJo",
        "colab": {
          "base_uri": "https://localhost:8080/"
        },
        "outputId": "c0b2b3ae-239e-4de1-bb2e-7afe6c64c69e"
      },
      "execution_count": 22,
      "outputs": [
        {
          "output_type": "stream",
          "name": "stdout",
          "text": [
            "  11/3050 [..............................] - ETA: 36s"
          ]
        },
        {
          "output_type": "stream",
          "name": "stderr",
          "text": [
            "/usr/local/lib/python3.7/dist-packages/ipykernel_launcher.py:8: UserWarning: `Model.predict_generator` is deprecated and will be removed in a future version. Please use `Model.predict`, which supports generators.\n",
            "  \n"
          ]
        },
        {
          "output_type": "stream",
          "name": "stdout",
          "text": [
            "3050/3050 [==============================] - 27s 9ms/step\n"
          ]
        }
      ]
    },
    {
      "cell_type": "code",
      "source": [
        "temp"
      ],
      "metadata": {
        "colab": {
          "base_uri": "https://localhost:8080/",
          "height": 424
        },
        "id": "jWT4N4LRItCA",
        "outputId": "fc81f0fa-b338-47df-be71-4147629d7baf"
      },
      "execution_count": 23,
      "outputs": [
        {
          "output_type": "execute_result",
          "data": {
            "text/plain": [
              "         Image  Label\n",
              "0     1020.jpg      0\n",
              "1      103.jpg      0\n",
              "2     1053.jpg      0\n",
              "3     1081.jpg      0\n",
              "4     1082.jpg      0\n",
              "...        ...    ...\n",
              "3045   920.jpg      0\n",
              "3046   949.jpg      0\n",
              "3047   952.jpg      0\n",
              "3048   961.jpg      0\n",
              "3049   989.jpg      0\n",
              "\n",
              "[3050 rows x 2 columns]"
            ],
            "text/html": [
              "\n",
              "  <div id=\"df-1e871907-eeab-4619-a355-f246213974cd\">\n",
              "    <div class=\"colab-df-container\">\n",
              "      <div>\n",
              "<style scoped>\n",
              "    .dataframe tbody tr th:only-of-type {\n",
              "        vertical-align: middle;\n",
              "    }\n",
              "\n",
              "    .dataframe tbody tr th {\n",
              "        vertical-align: top;\n",
              "    }\n",
              "\n",
              "    .dataframe thead th {\n",
              "        text-align: right;\n",
              "    }\n",
              "</style>\n",
              "<table border=\"1\" class=\"dataframe\">\n",
              "  <thead>\n",
              "    <tr style=\"text-align: right;\">\n",
              "      <th></th>\n",
              "      <th>Image</th>\n",
              "      <th>Label</th>\n",
              "    </tr>\n",
              "  </thead>\n",
              "  <tbody>\n",
              "    <tr>\n",
              "      <th>0</th>\n",
              "      <td>1020.jpg</td>\n",
              "      <td>0</td>\n",
              "    </tr>\n",
              "    <tr>\n",
              "      <th>1</th>\n",
              "      <td>103.jpg</td>\n",
              "      <td>0</td>\n",
              "    </tr>\n",
              "    <tr>\n",
              "      <th>2</th>\n",
              "      <td>1053.jpg</td>\n",
              "      <td>0</td>\n",
              "    </tr>\n",
              "    <tr>\n",
              "      <th>3</th>\n",
              "      <td>1081.jpg</td>\n",
              "      <td>0</td>\n",
              "    </tr>\n",
              "    <tr>\n",
              "      <th>4</th>\n",
              "      <td>1082.jpg</td>\n",
              "      <td>0</td>\n",
              "    </tr>\n",
              "    <tr>\n",
              "      <th>...</th>\n",
              "      <td>...</td>\n",
              "      <td>...</td>\n",
              "    </tr>\n",
              "    <tr>\n",
              "      <th>3045</th>\n",
              "      <td>920.jpg</td>\n",
              "      <td>0</td>\n",
              "    </tr>\n",
              "    <tr>\n",
              "      <th>3046</th>\n",
              "      <td>949.jpg</td>\n",
              "      <td>0</td>\n",
              "    </tr>\n",
              "    <tr>\n",
              "      <th>3047</th>\n",
              "      <td>952.jpg</td>\n",
              "      <td>0</td>\n",
              "    </tr>\n",
              "    <tr>\n",
              "      <th>3048</th>\n",
              "      <td>961.jpg</td>\n",
              "      <td>0</td>\n",
              "    </tr>\n",
              "    <tr>\n",
              "      <th>3049</th>\n",
              "      <td>989.jpg</td>\n",
              "      <td>0</td>\n",
              "    </tr>\n",
              "  </tbody>\n",
              "</table>\n",
              "<p>3050 rows × 2 columns</p>\n",
              "</div>\n",
              "      <button class=\"colab-df-convert\" onclick=\"convertToInteractive('df-1e871907-eeab-4619-a355-f246213974cd')\"\n",
              "              title=\"Convert this dataframe to an interactive table.\"\n",
              "              style=\"display:none;\">\n",
              "        \n",
              "  <svg xmlns=\"http://www.w3.org/2000/svg\" height=\"24px\"viewBox=\"0 0 24 24\"\n",
              "       width=\"24px\">\n",
              "    <path d=\"M0 0h24v24H0V0z\" fill=\"none\"/>\n",
              "    <path d=\"M18.56 5.44l.94 2.06.94-2.06 2.06-.94-2.06-.94-.94-2.06-.94 2.06-2.06.94zm-11 1L8.5 8.5l.94-2.06 2.06-.94-2.06-.94L8.5 2.5l-.94 2.06-2.06.94zm10 10l.94 2.06.94-2.06 2.06-.94-2.06-.94-.94-2.06-.94 2.06-2.06.94z\"/><path d=\"M17.41 7.96l-1.37-1.37c-.4-.4-.92-.59-1.43-.59-.52 0-1.04.2-1.43.59L10.3 9.45l-7.72 7.72c-.78.78-.78 2.05 0 2.83L4 21.41c.39.39.9.59 1.41.59.51 0 1.02-.2 1.41-.59l7.78-7.78 2.81-2.81c.8-.78.8-2.07 0-2.86zM5.41 20L4 18.59l7.72-7.72 1.47 1.35L5.41 20z\"/>\n",
              "  </svg>\n",
              "      </button>\n",
              "      \n",
              "  <style>\n",
              "    .colab-df-container {\n",
              "      display:flex;\n",
              "      flex-wrap:wrap;\n",
              "      gap: 12px;\n",
              "    }\n",
              "\n",
              "    .colab-df-convert {\n",
              "      background-color: #E8F0FE;\n",
              "      border: none;\n",
              "      border-radius: 50%;\n",
              "      cursor: pointer;\n",
              "      display: none;\n",
              "      fill: #1967D2;\n",
              "      height: 32px;\n",
              "      padding: 0 0 0 0;\n",
              "      width: 32px;\n",
              "    }\n",
              "\n",
              "    .colab-df-convert:hover {\n",
              "      background-color: #E2EBFA;\n",
              "      box-shadow: 0px 1px 2px rgba(60, 64, 67, 0.3), 0px 1px 3px 1px rgba(60, 64, 67, 0.15);\n",
              "      fill: #174EA6;\n",
              "    }\n",
              "\n",
              "    [theme=dark] .colab-df-convert {\n",
              "      background-color: #3B4455;\n",
              "      fill: #D2E3FC;\n",
              "    }\n",
              "\n",
              "    [theme=dark] .colab-df-convert:hover {\n",
              "      background-color: #434B5C;\n",
              "      box-shadow: 0px 1px 3px 1px rgba(0, 0, 0, 0.15);\n",
              "      filter: drop-shadow(0px 1px 2px rgba(0, 0, 0, 0.3));\n",
              "      fill: #FFFFFF;\n",
              "    }\n",
              "  </style>\n",
              "\n",
              "      <script>\n",
              "        const buttonEl =\n",
              "          document.querySelector('#df-1e871907-eeab-4619-a355-f246213974cd button.colab-df-convert');\n",
              "        buttonEl.style.display =\n",
              "          google.colab.kernel.accessAllowed ? 'block' : 'none';\n",
              "\n",
              "        async function convertToInteractive(key) {\n",
              "          const element = document.querySelector('#df-1e871907-eeab-4619-a355-f246213974cd');\n",
              "          const dataTable =\n",
              "            await google.colab.kernel.invokeFunction('convertToInteractive',\n",
              "                                                     [key], {});\n",
              "          if (!dataTable) return;\n",
              "\n",
              "          const docLinkHtml = 'Like what you see? Visit the ' +\n",
              "            '<a target=\"_blank\" href=https://colab.research.google.com/notebooks/data_table.ipynb>data table notebook</a>'\n",
              "            + ' to learn more about interactive tables.';\n",
              "          element.innerHTML = '';\n",
              "          dataTable['output_type'] = 'display_data';\n",
              "          await google.colab.output.renderOutput(dataTable, element);\n",
              "          const docLink = document.createElement('div');\n",
              "          docLink.innerHTML = docLinkHtml;\n",
              "          element.appendChild(docLink);\n",
              "        }\n",
              "      </script>\n",
              "    </div>\n",
              "  </div>\n",
              "  "
            ]
          },
          "metadata": {},
          "execution_count": 23
        }
      ]
    },
    {
      "cell_type": "code",
      "source": [
        "pip install plot_keras_history\n"
      ],
      "metadata": {
        "colab": {
          "base_uri": "https://localhost:8080/"
        },
        "id": "kTcUxrl5Q3Dm",
        "outputId": "6d85bba8-d83c-4191-f275-30a23da507e7"
      },
      "execution_count": 24,
      "outputs": [
        {
          "output_type": "stream",
          "name": "stdout",
          "text": [
            "Looking in indexes: https://pypi.org/simple, https://us-python.pkg.dev/colab-wheels/public/simple/\n",
            "Collecting plot_keras_history\n",
            "  Downloading plot_keras_history-1.1.37.tar.gz (11 kB)\n",
            "Requirement already satisfied: matplotlib in /usr/local/lib/python3.7/dist-packages (from plot_keras_history) (3.2.2)\n",
            "Requirement already satisfied: pandas in /usr/local/lib/python3.7/dist-packages (from plot_keras_history) (1.3.5)\n",
            "Requirement already satisfied: scipy in /usr/local/lib/python3.7/dist-packages (from plot_keras_history) (1.7.3)\n",
            "Collecting support_developer>=1.0.2\n",
            "  Downloading support_developer-1.0.4.tar.gz (4.6 kB)\n",
            "Collecting sanitize_ml_labels>=1.0.48\n",
            "  Downloading sanitize_ml_labels-1.0.49.tar.gz (321 kB)\n",
            "\u001b[K     |████████████████████████████████| 321 kB 40.1 MB/s \n",
            "\u001b[?25hCollecting compress_json\n",
            "  Downloading compress_json-1.0.8.tar.gz (4.7 kB)\n",
            "Requirement already satisfied: pyparsing!=2.0.4,!=2.1.2,!=2.1.6,>=2.0.1 in /usr/local/lib/python3.7/dist-packages (from matplotlib->plot_keras_history) (3.0.9)\n",
            "Requirement already satisfied: numpy>=1.11 in /usr/local/lib/python3.7/dist-packages (from matplotlib->plot_keras_history) (1.21.6)\n",
            "Requirement already satisfied: kiwisolver>=1.0.1 in /usr/local/lib/python3.7/dist-packages (from matplotlib->plot_keras_history) (1.4.4)\n",
            "Requirement already satisfied: python-dateutil>=2.1 in /usr/local/lib/python3.7/dist-packages (from matplotlib->plot_keras_history) (2.8.2)\n",
            "Requirement already satisfied: cycler>=0.10 in /usr/local/lib/python3.7/dist-packages (from matplotlib->plot_keras_history) (0.11.0)\n",
            "Requirement already satisfied: typing-extensions in /usr/local/lib/python3.7/dist-packages (from kiwisolver>=1.0.1->matplotlib->plot_keras_history) (4.1.1)\n",
            "Requirement already satisfied: six>=1.5 in /usr/local/lib/python3.7/dist-packages (from python-dateutil>=2.1->matplotlib->plot_keras_history) (1.15.0)\n",
            "Requirement already satisfied: pytz>=2017.3 in /usr/local/lib/python3.7/dist-packages (from pandas->plot_keras_history) (2022.2.1)\n",
            "Building wheels for collected packages: plot-keras-history, sanitize-ml-labels, support-developer, compress-json\n",
            "  Building wheel for plot-keras-history (setup.py) ... \u001b[?25l\u001b[?25hdone\n",
            "  Created wheel for plot-keras-history: filename=plot_keras_history-1.1.37-py3-none-any.whl size=9408 sha256=b11cb9624fecbed56fb50dd6c235863e213499059d1ccae4faf2ecc154f4dc80\n",
            "  Stored in directory: /root/.cache/pip/wheels/72/91/3c/9306e573b56b6ea00e7d37c2286d51d1f8f2d7b1b078bf3399\n",
            "  Building wheel for sanitize-ml-labels (setup.py) ... \u001b[?25l\u001b[?25hdone\n",
            "  Created wheel for sanitize-ml-labels: filename=sanitize_ml_labels-1.0.49-py3-none-any.whl size=320403 sha256=1a1827f933665d8e76aa61215e02bec9c75266dfbda2e192aa5c4cf9db60222a\n",
            "  Stored in directory: /root/.cache/pip/wheels/f6/0a/7a/c00024468dd987395ee9bd54d293f6cc31f58da13dc2cfc5fc\n",
            "  Building wheel for support-developer (setup.py) ... \u001b[?25l\u001b[?25hdone\n",
            "  Created wheel for support-developer: filename=support_developer-1.0.4-py3-none-any.whl size=5067 sha256=d4a063c2b7cac73cc4697e6726e45a5412c89fac8225392ecef28b1265ceccd0\n",
            "  Stored in directory: /root/.cache/pip/wheels/e7/9d/c8/1209cb780a301c5181e3da11b8b4e161d30d034c6370b995ce\n",
            "  Building wheel for compress-json (setup.py) ... \u001b[?25l\u001b[?25hdone\n",
            "  Created wheel for compress-json: filename=compress_json-1.0.8-py3-none-any.whl size=4730 sha256=219f058ade86f301e72db4dee4363c7b8c3eec0f699c8125ed82d6fe9a2a0929\n",
            "  Stored in directory: /root/.cache/pip/wheels/93/9f/a4/13810037c24ad31f1f42fe769d4cbe6665d8d081c322b3483b\n",
            "Successfully built plot-keras-history sanitize-ml-labels support-developer compress-json\n",
            "Installing collected packages: support-developer, compress-json, sanitize-ml-labels, plot-keras-history\n",
            "Successfully installed compress-json-1.0.8 plot-keras-history-1.1.37 sanitize-ml-labels-1.0.49 support-developer-1.0.4\n"
          ]
        }
      ]
    },
    {
      "cell_type": "code",
      "source": [
        "from plot_keras_history import show_history, plot_history\n",
        "import matplotlib.pyplot as plt\n",
        "\n",
        "\n",
        "show_history(resnet_history)\n",
        "plot_history(resnet_history, path=\"standard.png\")\n",
        "plt.close()\n",
        "\n"
      ],
      "metadata": {
        "id": "0YooEze122Df",
        "colab": {
          "base_uri": "https://localhost:8080/",
          "height": 385
        },
        "outputId": "6f4cf6bc-accb-4a68-a2a7-221e96e8d5a3"
      },
      "execution_count": 25,
      "outputs": [
        {
          "output_type": "display_data",
          "data": {
            "text/plain": [
              "<Figure size 1080x360 with 3 Axes>"
            ],
            "image/png": "[encoded data removed]"
          },
          "metadata": {
            "needs_background": "light"
          }
        }
      ]
    },
    {
      "cell_type": "code",
      "source": [],
      "metadata": {
        "id": "ViXhs_Sy2zk1"
      },
      "execution_count": null,
      "outputs": []
    }
  ]
}