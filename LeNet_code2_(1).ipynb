{
  "cells": [
    {
      "cell_type": "code",
      "execution_count": 1,
      "metadata": {
        "id": "H164ZUcJu4Im"
      },
      "outputs": [],
      "source": [
        "import pandas as pd\n",
        "import numpy as np\n",
        "import os\n",
        "import tensorflow as tf\n",
        "import cv2\n",
        "from tensorflow import keras\n",
        "from keras.layers.core import Dense\n",
        "from tensorflow.keras.layers import Input , Flatten\n",
        "from tensorflow.keras import layers\n",
        "from tensorflow.keras.models import Sequential, Model\n",
        "from keras.preprocessing.image import ImageDataGenerator\n",
        "from  matplotlib import pyplot as plt\n",
        "import matplotlib.image as mpimg\n",
        "%matplotlib inline\n"
      ],
      "id": "H164ZUcJu4Im"
    },
    {
      "cell_type": "code",
      "execution_count": 2,
      "metadata": {
        "id": "7vMMrlHLMfXT",
        "colab": {
          "base_uri": "https://localhost:8080/"
        },
        "outputId": "405972e4-df95-4500-b15f-519bf7b290eb"
      },
      "outputs": [
        {
          "output_type": "stream",
          "name": "stdout",
          "text": [
            "Mounted at /content/gdrive\n"
          ]
        }
      ],
      "source": [
        "from google.colab import drive\n",
        "drive.mount('/content/gdrive')"
      ],
      "id": "7vMMrlHLMfXT"
    },
    {
      "cell_type": "code",
      "execution_count": 3,
      "metadata": {
        "id": "iY0oCsPfNr3L",
        "colab": {
          "base_uri": "https://localhost:8080/"
        },
        "outputId": "864a6d7a-bbb7-4ad8-950f-36022b6d7b3f"
      },
      "outputs": [
        {
          "output_type": "stream",
          "name": "stdout",
          "text": [
            "Looking in indexes: https://pypi.org/simple, https://us-python.pkg.dev/colab-wheels/public/simple/\n",
            "Collecting split_folders\n",
            "  Downloading split_folders-0.5.1-py3-none-any.whl (8.4 kB)\n",
            "Installing collected packages: split-folders\n",
            "Successfully installed split-folders-0.5.1\n"
          ]
        }
      ],
      "source": [
        "pip install split_folders"
      ],
      "id": "iY0oCsPfNr3L"
    },
    {
      "cell_type": "code",
      "execution_count": 4,
      "metadata": {
        "id": "NXzm8XMpu4It",
        "colab": {
          "base_uri": "https://localhost:8080/"
        },
        "outputId": "61186e1b-c040-4b3a-d122-06e836db9dfb"
      },
      "outputs": [
        {
          "output_type": "stream",
          "name": "stderr",
          "text": [
            "Copying files: 14034 files [05:29, 42.63 files/s] \n"
          ]
        }
      ],
      "source": [
        "img_folder='/content/gdrive/MyDrive/sprints project /Scenes training set'\n",
        "import splitfolders\n",
        "splitfolders.ratio(img_folder, output=\"output\",\n",
        "    seed=1337, ratio=(.7,0.3), group_prefix=None, move=False)"
      ],
      "id": "NXzm8XMpu4It"
    },
    {
      "cell_type": "code",
      "execution_count": 13,
      "metadata": {
        "id": "-J_OxCCzu4Iu"
      },
      "outputs": [],
      "source": [
        "train_dir = '/content/output/train'\n",
        "val_dir = '/content/output/val'\n",
        "test_dir='/content/gdrive/MyDrive/sprints project /testset'"
      ],
      "id": "-J_OxCCzu4Iu"
    },
    {
      "cell_type": "code",
      "execution_count": 6,
      "metadata": {
        "id": "cw0S8aCCv2y8",
        "colab": {
          "base_uri": "https://localhost:8080/"
        },
        "outputId": "4465cbdd-e9cf-49a1-ee98-74b1fe21865c"
      },
      "outputs": [
        {
          "output_type": "stream",
          "name": "stdout",
          "text": [
            "Found 9820 images belonging to 6 classes.\n"
          ]
        }
      ],
      "source": [
        "from keras.preprocessing.image import ImageDataGenerator\n",
        "train_datagen= ImageDataGenerator(rescale=1. /255)\n",
        "train_generator=train_datagen.flow_from_directory(\n",
        "    directory=train_dir,\n",
        "    target_size=(224, 224),\n",
        "    color_mode=\"rgb\",\n",
        "    batch_size=30,\n",
        "    shuffle=False,\n",
        "    seed=42,\n",
        "    class_mode='sparse'\n",
        ")"
      ],
      "id": "cw0S8aCCv2y8"
    },
    {
      "cell_type": "code",
      "execution_count": 7,
      "metadata": {
        "id": "4xrRDM0fzPWV",
        "colab": {
          "base_uri": "https://localhost:8080/"
        },
        "outputId": "dca90c4c-16b5-45f5-9885-57028a5e9bc3"
      },
      "outputs": [
        {
          "output_type": "stream",
          "name": "stdout",
          "text": [
            "Found 4214 images belonging to 6 classes.\n"
          ]
        }
      ],
      "source": [
        "from keras.preprocessing.image import ImageDataGenerator\n",
        "val_datagen= ImageDataGenerator(rescale=1. /255)\n",
        "val_generator= val_datagen.flow_from_directory(\n",
        "     directory=val_dir,\n",
        "     target_size=(224, 224),\n",
        "     color_mode= \"rgb\",\n",
        "     batch_size=30,\n",
        "     shuffle= False,\n",
        "     seed=42 ,\n",
        "     class_mode='sparse'\n",
        ")"
      ],
      "id": "4xrRDM0fzPWV"
    },
    {
      "cell_type": "code",
      "execution_count": 14,
      "metadata": {
        "id": "ci17FbAW0fbV",
        "colab": {
          "base_uri": "https://localhost:8080/"
        },
        "outputId": "e32dd666-5b2d-4662-d233-78b543d84a7d"
      },
      "outputs": [
        {
          "output_type": "stream",
          "name": "stdout",
          "text": [
            "Found 3050 images belonging to 1 classes.\n"
          ]
        }
      ],
      "source": [
        "from keras.preprocessing.image import ImageDataGenerator\n",
        "test_datagen= ImageDataGenerator(rescale=1. /255)\n",
        "test_generator=test_datagen.flow_from_directory(\n",
        "    directory=test_dir,\n",
        "    target_size=(224, 224),\n",
        "    color_mode=\"rgb\",\n",
        "    batch_size=30,\n",
        "    shuffle=False,\n",
        "    seed=42,\n",
        "   class_mode='sparse'\n",
        ")"
      ],
      "id": "ci17FbAW0fbV"
    },
    {
      "cell_type": "code",
      "execution_count": 15,
      "metadata": {
        "id": "p1_bd7OTQvTg"
      },
      "outputs": [],
      "source": [
        "from keras.optimizers import gradient_descent_v2\n"
      ],
      "id": "p1_bd7OTQvTg"
    },
    {
      "cell_type": "code",
      "source": [
        "import numpy as np\n",
        "import pandas as pd\n",
        "import matplotlib.pyplot as plt\n",
        "import tensorflow as tf\n",
        "from tensorflow.keras import Sequential\n",
        "from tensorflow.keras.layers import Conv2D, AveragePooling2D, Flatten, Dense\n",
        "from tensorflow.keras.optimizers import SGD"
      ],
      "metadata": {
        "id": "s8dHtnntiNo1"
      },
      "id": "s8dHtnntiNo1",
      "execution_count": 16,
      "outputs": []
    },
    {
      "cell_type": "code",
      "source": [
        "model = tf.keras.Sequential([\n",
        "    tf.keras.layers.Conv2D(6, (5, 5), activation='relu', padding='same', input_shape=(224, 224, 3)),\n",
        "    tf.keras.layers.MaxPooling2D((2, 2)),\n",
        "    \n",
        "    tf.keras.layers.Conv2D(16, (5, 5), activation='relu', padding='valid'),\n",
        "    tf.keras.layers.MaxPooling2D((2, 2)),\n",
        "    \n",
        "    tf.keras.layers.Flatten(),\n",
        "    tf.keras.layers.Dense(120, activation='relu'),\n",
        "    tf.keras.layers.Dense(84, activation='relu'),\n",
        "    \n",
        "    tf.keras.layers.Dense(6, activation='softmax'),\n",
        "])"
      ],
      "metadata": {
        "id": "96QXiBHI1T1P"
      },
      "id": "96QXiBHI1T1P",
      "execution_count": 17,
      "outputs": []
    },
    {
      "cell_type": "code",
      "source": [
        "optimiser = tf.keras.optimizers.Adam(learning_rate=0.001)\n",
        "\n",
        "model.compile(\n",
        "    optimizer=optimiser, \n",
        "    loss='sparse_categorical_crossentropy', \n",
        "    metrics=['accuracy'])\n",
        "\n",
        "model.summary()"
      ],
      "metadata": {
        "colab": {
          "base_uri": "https://localhost:8080/"
        },
        "id": "8hyHfkgi1aGx",
        "outputId": "6fa28174-fec1-4a31-d637-55ac730d8f39"
      },
      "id": "8hyHfkgi1aGx",
      "execution_count": 18,
      "outputs": [
        {
          "output_type": "stream",
          "name": "stdout",
          "text": [
            "Model: \"sequential\"\n",
            "_________________________________________________________________\n",
            " Layer (type)                Output Shape              Param #   \n",
            "=================================================================\n",
            " conv2d (Conv2D)             (None, 224, 224, 6)       456       \n",
            "                                                                 \n",
            " max_pooling2d (MaxPooling2D  (None, 112, 112, 6)      0         \n",
            " )                                                               \n",
            "                                                                 \n",
            " conv2d_1 (Conv2D)           (None, 108, 108, 16)      2416      \n",
            "                                                                 \n",
            " max_pooling2d_1 (MaxPooling  (None, 54, 54, 16)       0         \n",
            " 2D)                                                             \n",
            "                                                                 \n",
            " flatten (Flatten)           (None, 46656)             0         \n",
            "                                                                 \n",
            " dense (Dense)               (None, 120)               5598840   \n",
            "                                                                 \n",
            " dense_1 (Dense)             (None, 84)                10164     \n",
            "                                                                 \n",
            " dense_2 (Dense)             (None, 6)                 510       \n",
            "                                                                 \n",
            "=================================================================\n",
            "Total params: 5,612,386\n",
            "Trainable params: 5,612,386\n",
            "Non-trainable params: 0\n",
            "_________________________________________________________________\n"
          ]
        }
      ]
    },
    {
      "cell_type": "code",
      "source": [
        "callbacks = [\n",
        "    tf.keras.callbacks.ReduceLROnPlateau(monitor='loss', patience=2, verbose=1),\n",
        "    tf.keras.callbacks.EarlyStopping(monitor='loss', patience=5, verbose=1),\n",
        "]"
      ],
      "metadata": {
        "id": "HMVrmBl21i_C"
      },
      "id": "HMVrmBl21i_C",
      "execution_count": 19,
      "outputs": []
    },
    {
      "cell_type": "code",
      "source": [
        "train_log = model.fit(\n",
        "    train_generator,\n",
        "    validation_data=val_generator,\n",
        "    epochs=30,\n",
        "    callbacks=callbacks\n",
        ")"
      ],
      "metadata": {
        "colab": {
          "base_uri": "https://localhost:8080/"
        },
        "id": "uyTbhHdy1x04",
        "outputId": "2ba39662-6bdc-4520-f5a9-85068517d24e"
      },
      "id": "uyTbhHdy1x04",
      "execution_count": 20,
      "outputs": [
        {
          "output_type": "stream",
          "name": "stdout",
          "text": [
            "Epoch 1/30\n",
            "328/328 [==============================] - 35s 71ms/step - loss: 1.6648 - accuracy: 0.3073 - val_loss: 1.3324 - val_accuracy: 0.4499 - lr: 0.0010\n",
            "Epoch 2/30\n",
            "328/328 [==============================] - 24s 72ms/step - loss: 1.2038 - accuracy: 0.4829 - val_loss: 1.0633 - val_accuracy: 0.5384 - lr: 0.0010\n",
            "Epoch 3/30\n",
            "328/328 [==============================] - 24s 72ms/step - loss: 1.0084 - accuracy: 0.5747 - val_loss: 0.9836 - val_accuracy: 0.5997 - lr: 0.0010\n",
            "Epoch 4/30\n",
            "328/328 [==============================] - 23s 71ms/step - loss: 0.8508 - accuracy: 0.6573 - val_loss: 1.0084 - val_accuracy: 0.5733 - lr: 0.0010\n",
            "Epoch 5/30\n",
            "328/328 [==============================] - 23s 71ms/step - loss: 0.6762 - accuracy: 0.7307 - val_loss: 0.8764 - val_accuracy: 0.6630 - lr: 0.0010\n",
            "Epoch 6/30\n",
            "328/328 [==============================] - 23s 71ms/step - loss: 0.4405 - accuracy: 0.8337 - val_loss: 1.0573 - val_accuracy: 0.6111 - lr: 0.0010\n",
            "Epoch 7/30\n",
            "328/328 [==============================] - 24s 74ms/step - loss: 0.3739 - accuracy: 0.8677 - val_loss: 1.0714 - val_accuracy: 0.6716 - lr: 0.0010\n",
            "Epoch 8/30\n",
            "328/328 [==============================] - 23s 71ms/step - loss: 0.1530 - accuracy: 0.9507 - val_loss: 1.2089 - val_accuracy: 0.6815 - lr: 0.0010\n",
            "Epoch 9/30\n",
            "328/328 [==============================] - 23s 71ms/step - loss: 0.0581 - accuracy: 0.9845 - val_loss: 1.4708 - val_accuracy: 0.6844 - lr: 0.0010\n",
            "Epoch 10/30\n",
            "328/328 [==============================] - 24s 72ms/step - loss: 0.0310 - accuracy: 0.9936 - val_loss: 1.6346 - val_accuracy: 0.6747 - lr: 0.0010\n",
            "Epoch 11/30\n",
            "328/328 [==============================] - 23s 71ms/step - loss: 0.0179 - accuracy: 0.9965 - val_loss: 1.7750 - val_accuracy: 0.6832 - lr: 0.0010\n",
            "Epoch 12/30\n",
            "328/328 [==============================] - 23s 71ms/step - loss: 0.0104 - accuracy: 0.9979 - val_loss: 1.9457 - val_accuracy: 0.6927 - lr: 0.0010\n",
            "Epoch 13/30\n",
            "328/328 [==============================] - 25s 75ms/step - loss: 0.0066 - accuracy: 0.9985 - val_loss: 2.0719 - val_accuracy: 0.6830 - lr: 0.0010\n",
            "Epoch 14/30\n",
            "328/328 [==============================] - 25s 75ms/step - loss: 0.0030 - accuracy: 0.9993 - val_loss: 2.1936 - val_accuracy: 0.6849 - lr: 0.0010\n",
            "Epoch 15/30\n",
            "328/328 [==============================] - 23s 70ms/step - loss: 0.2962 - accuracy: 0.9118 - val_loss: 1.5384 - val_accuracy: 0.6137 - lr: 0.0010\n",
            "Epoch 16/30\n",
            "327/328 [============================>.] - ETA: 0s - loss: 0.0508 - accuracy: 0.9858\n",
            "Epoch 16: ReduceLROnPlateau reducing learning rate to 0.00010000000474974513.\n",
            "328/328 [==============================] - 23s 70ms/step - loss: 0.0508 - accuracy: 0.9858 - val_loss: 1.8180 - val_accuracy: 0.6630 - lr: 0.0010\n",
            "Epoch 17/30\n",
            "328/328 [==============================] - 23s 71ms/step - loss: 0.0079 - accuracy: 0.9987 - val_loss: 1.8166 - val_accuracy: 0.6787 - lr: 1.0000e-04\n",
            "Epoch 18/30\n",
            "327/328 [============================>.] - ETA: 0s - loss: 0.0061 - accuracy: 0.9990\n",
            "Epoch 18: ReduceLROnPlateau reducing learning rate to 1.0000000474974514e-05.\n",
            "328/328 [==============================] - 23s 70ms/step - loss: 0.0060 - accuracy: 0.9990 - val_loss: 1.8566 - val_accuracy: 0.6761 - lr: 1.0000e-04\n",
            "Epoch 19/30\n",
            "328/328 [==============================] - 23s 70ms/step - loss: 0.0052 - accuracy: 0.9991 - val_loss: 1.8612 - val_accuracy: 0.6763 - lr: 1.0000e-05\n",
            "Epoch 19: early stopping\n"
          ]
        }
      ]
    },
    {
      "cell_type": "code",
      "source": [
        "STEP_SIZE_VALID=val_generator.n//val_generator.batch_size\n",
        "model.evaluate_generator(generator=val_generator,\n",
        "steps=STEP_SIZE_VALID)"
      ],
      "metadata": {
        "colab": {
          "base_uri": "https://localhost:8080/"
        },
        "id": "FZQgxqULBiOe",
        "outputId": "10fdaf35-8606-4529-c1b6-940e4e76b558"
      },
      "id": "FZQgxqULBiOe",
      "execution_count": 22,
      "outputs": [
        {
          "output_type": "stream",
          "name": "stderr",
          "text": [
            "/usr/local/lib/python3.7/dist-packages/ipykernel_launcher.py:3: UserWarning: `Model.evaluate_generator` is deprecated and will be removed in a future version. Please use `Model.evaluate`, which supports generators.\n",
            "  This is separate from the ipykernel package so we can avoid doing imports until\n"
          ]
        },
        {
          "output_type": "execute_result",
          "data": {
            "text/plain": [
              "[1.8650150299072266, 0.6757143139839172]"
            ]
          },
          "metadata": {},
          "execution_count": 22
        }
      ]
    },
    {
      "cell_type": "code",
      "source": [
        "STEP_SIZE_TRAIN=train_generator.n//train_generator.batch_size\n",
        "model.evaluate_generator(generator=train_generator,\n",
        "steps=STEP_SIZE_TRAIN)"
      ],
      "metadata": {
        "colab": {
          "base_uri": "https://localhost:8080/"
        },
        "id": "EGDwhP9zBiRc",
        "outputId": "70fe41e0-6ed8-4a1e-b974-aae6486660a0"
      },
      "id": "EGDwhP9zBiRc",
      "execution_count": 23,
      "outputs": [
        {
          "output_type": "stream",
          "name": "stderr",
          "text": [
            "/usr/local/lib/python3.7/dist-packages/ipykernel_launcher.py:3: UserWarning: `Model.evaluate_generator` is deprecated and will be removed in a future version. Please use `Model.evaluate`, which supports generators.\n",
            "  This is separate from the ipykernel package so we can avoid doing imports until\n"
          ]
        },
        {
          "output_type": "execute_result",
          "data": {
            "text/plain": [
              "[0.005156552419066429, 0.9990825653076172]"
            ]
          },
          "metadata": {},
          "execution_count": 23
        }
      ]
    },
    {
      "cell_type": "code",
      "source": [
        "import os \n",
        "import glob\n",
        "import pandas as pd\n",
        "\n",
        "Name = []\n",
        "\n",
        "for img in glob.glob(test_dir):\n",
        "    prediction = model.predict_generator(test_generator,steps=150,verbose=1)\n",
        "    for name in os.listdir('/content/gdrive/MyDrive/sprints project /testset/Scenes testing test'):\n",
        "         Name.append(name[0::])\n",
        "\n",
        "\n",
        "\n",
        "predicted_class_indics=np.argmax(prediction,axis=1)\n",
        "Name.sort()\n",
        "Temp = {'Image':Name, 'Label':predicted_class_indics}\n",
        "temp = pd.DataFrame(Temp)\n",
        "temp.to_csv('/content/results.csv', index=False)"
      ],
      "metadata": {
        "id": "xA59K6UW1x2y",
        "colab": {
          "base_uri": "https://localhost:8080/"
        },
        "outputId": "1a27a310-4ecb-402a-8471-5fb9a363e8ee"
      },
      "id": "xA59K6UW1x2y",
      "execution_count": 26,
      "outputs": [
        {
          "output_type": "stream",
          "name": "stderr",
          "text": [
            "/usr/local/lib/python3.7/dist-packages/ipykernel_launcher.py:8: UserWarning: `Model.predict_generator` is deprecated and will be removed in a future version. Please use `Model.predict`, which supports generators.\n",
            "  \n"
          ]
        },
        {
          "output_type": "stream",
          "name": "stdout",
          "text": [
            "102/150 [===================>..........] - ETA: 4s"
          ]
        },
        {
          "output_type": "stream",
          "name": "stderr",
          "text": [
            "WARNING:tensorflow:Your input ran out of data; interrupting training. Make sure that your dataset or generator can generate at least `steps_per_epoch * epochs` batches (in this case, 150 batches). You may need to use the repeat() function when building your dataset.\n"
          ]
        },
        {
          "output_type": "stream",
          "name": "stdout",
          "text": [
            "\b\b\b\b\b\b\b\b\b\b\b\b\b\b\b\b\b\b\b\b\b\b\b\b\b\b\b\b\b\b\b\b\b\b\b\b\b\b\b\b\b\b\b\b\b\b\b\b\b\b\r150/150 [==============================] - 10s 68ms/step\n"
          ]
        }
      ]
    }
  ],
  "metadata": {
    "colab": {
      "collapsed_sections": [],
      "provenance": []
    },
    "kernelspec": {
      "display_name": "Python 3",
      "language": "python",
      "name": "python3"
    },
    "language_info": {
      "codemirror_mode": {
        "name": "ipython",
        "version": 3
      },
      "file_extension": ".py",
      "mimetype": "text/x-python",
      "name": "python",
      "nbconvert_exporter": "python",
      "pygments_lexer": "ipython3",
      "version": "3.8.3"
    },
    "accelerator": "GPU",
    "gpuClass": "standard"
  },
  "nbformat": 4,
  "nbformat_minor": 5
}