{
  "cells": [
    {
      "cell_type": "code",
      "execution_count": 1,
      "metadata": {
        "colab": {
          "base_uri": "https://localhost:8080/"
        },
        "id": "rXSGLpMiY5Jz",
        "outputId": "a818125c-33f4-4421-d576-b39264ca9df2"
      },
      "outputs": [
        {
          "output_type": "stream",
          "name": "stdout",
          "text": [
            "Mounted at /content/drive\n"
          ]
        }
      ],
      "source": [
        "from google.colab import drive\n",
        "drive.mount('/content/drive')\n"
      ]
    },
    {
      "cell_type": "code",
      "execution_count": 2,
      "metadata": {
        "colab": {
          "base_uri": "https://localhost:8080/"
        },
        "id": "7G-fwhvCZOMg",
        "outputId": "4e986aec-6b84-475e-90c4-f582ab347ab7"
      },
      "outputs": [
        {
          "output_type": "stream",
          "name": "stdout",
          "text": [
            "Looking in indexes: https://pypi.org/simple, https://us-python.pkg.dev/colab-wheels/public/simple/\n",
            "Collecting split_folders\n",
            "  Downloading split_folders-0.5.1-py3-none-any.whl (8.4 kB)\n",
            "Installing collected packages: split-folders\n",
            "Successfully installed split-folders-0.5.1\n"
          ]
        }
      ],
      "source": [
        "pip install split_folders"
      ]
    },
    {
      "cell_type": "code",
      "execution_count": 3,
      "metadata": {
        "colab": {
          "base_uri": "https://localhost:8080/"
        },
        "id": "u8x_rB9rZOPH",
        "outputId": "89267dd0-64d3-41c4-8a2a-e86cf7c7e9c0"
      },
      "outputs": [
        {
          "output_type": "stream",
          "name": "stderr",
          "text": [
            "Copying files: 14034 files [05:03, 46.31 files/s] \n"
          ]
        }
      ],
      "source": [
        "img_folder='/content/drive/MyDrive/sprints project /Scenes training set'\n",
        "import splitfolders\n",
        "splitfolders.ratio(img_folder, output=\"output\",\n",
        "    seed=1337, ratio=(.7,0.3), group_prefix=None, move=False)"
      ]
    },
    {
      "cell_type": "code",
      "execution_count": 4,
      "metadata": {
        "id": "68I01Dx2ZOTS"
      },
      "outputs": [],
      "source": [
        "train_dir = '/content/output/train'\n",
        "val_dir = '/content/output/val'\n",
        "test_dir = '/content/drive/MyDrive/sprints project /testset'"
      ]
    },
    {
      "cell_type": "code",
      "execution_count": 68,
      "metadata": {
        "colab": {
          "base_uri": "https://localhost:8080/"
        },
        "id": "iB6CcLXMZOao",
        "outputId": "78da157f-9732-4a7b-df17-85cf0df11625"
      },
      "outputs": [
        {
          "output_type": "stream",
          "name": "stdout",
          "text": [
            "Found 9820 images belonging to 6 classes.\n",
            "Found 4214 images belonging to 6 classes.\n",
            "Found 3050 images belonging to 1 classes.\n"
          ]
        }
      ],
      "source": [
        "from keras.preprocessing.image import ImageDataGenerator, load_img\n",
        "train_datagen = ImageDataGenerator(rescale = 1./255,\n",
        "                                   shear_range = 0.2,\n",
        "                                   zoom_range = 0.2,\n",
        "                                   horizontal_flip = True)\n",
        " \n",
        "val_datagen = ImageDataGenerator(rescale = 1./255)\n",
        "test_datagen = ImageDataGenerator(rescale = 1./255)\n",
        "training_set = train_datagen.flow_from_directory(train_dir,\n",
        "                                                 target_size = (224, 224),\n",
        "                                                 batch_size = 32,\n",
        "                                                 class_mode = 'categorical')\n",
        " \n",
        "val_set = val_datagen.flow_from_directory(val_dir,\n",
        "                                            target_size = (224, 224),\n",
        "                                            batch_size = 32,\n",
        "                                            class_mode = 'categorical')\n",
        "test_set = test_datagen.flow_from_directory(test_dir,\n",
        "                                            shuffle=False ,\n",
        "                                            target_size = (224, 224),\n",
        "                                            batch_size = 32,\n",
        "                                            class_mode = 'categorical')"
      ]
    },
    {
      "cell_type": "code",
      "execution_count": 50,
      "metadata": {
        "id": "VxOT1fgXd3NE"
      },
      "outputs": [],
      "source": [
        "from tensorflow.keras.layers import Input, Conv2D, SeparableConv2D, \\\n",
        "     Add, Dense, BatchNormalization, ReLU, MaxPool2D, GlobalAvgPool2D"
      ]
    },
    {
      "cell_type": "code",
      "source": [
        "def conv_bn(x, filters, kernel_size, strides=1):\n",
        "    x = Conv2D(filters=filters,\n",
        "               kernel_size=kernel_size,\n",
        "               strides=strides,\n",
        "               padding='same',\n",
        "               use_bias=False)(x)\n",
        "    x = BatchNormalization()(x)\n",
        "    return x"
      ],
      "metadata": {
        "id": "amt4xixhcmlj"
      },
      "execution_count": 51,
      "outputs": []
    },
    {
      "cell_type": "code",
      "source": [
        "def sep_bn(x, filters, kernel_size, strides=1):\n",
        "    x = SeparableConv2D(filters=filters,\n",
        "                        kernel_size=kernel_size,\n",
        "                        strides=strides,\n",
        "                        padding='same',\n",
        "                        use_bias=False)(x)\n",
        "    x = BatchNormalization()(x)\n",
        "    return x"
      ],
      "metadata": {
        "id": "jH1p9X6GcmhD"
      },
      "execution_count": 52,
      "outputs": []
    },
    {
      "cell_type": "code",
      "source": [
        "def entry_flow(x):\n",
        "    x = conv_bn(x, filters=32, kernel_size=3, strides=2)\n",
        "    x = ReLU()(x)\n",
        "    x = conv_bn(x, filters=64, kernel_size=3)\n",
        "    tensor = ReLU()(x)\n",
        " \n",
        "    x = sep_bn(tensor, filters=128, kernel_size=3)\n",
        "    x = ReLU()(x)\n",
        "    x = sep_bn(x, filters=128, kernel_size=3)\n",
        "    x = MaxPool2D(pool_size=3, strides=2, padding='same')(x)\n",
        " \n",
        "    tensor = conv_bn(tensor, filters=128, kernel_size=1, strides=2)\n",
        " \n",
        "    x = Add()([tensor, x])\n",
        "    x = ReLU()(x)\n",
        "    x = sep_bn(x, filters=256, kernel_size=3)\n",
        "    x = ReLU()(x)\n",
        "    x = sep_bn(x, filters=256, kernel_size=3)\n",
        "    x = MaxPool2D(pool_size=3, strides=2, padding='same')(x)\n",
        " \n",
        "    tensor = conv_bn(tensor, filters=256, kernel_size=1, strides=2)\n",
        " \n",
        "    x = Add()([tensor, x])\n",
        "    x = ReLU()(x)\n",
        "    x = sep_bn(x, filters=728, kernel_size=3)\n",
        "    x = ReLU()(x)\n",
        "    x = sep_bn(x, filters=728, kernel_size=3)\n",
        "    x = MaxPool2D(pool_size=3, strides=2, padding='same')(x)\n",
        " \n",
        "    tensor = conv_bn(tensor, filters=728, kernel_size=1, strides=2)\n",
        "    x = Add()([tensor, x])\n",
        " \n",
        "    return x"
      ],
      "metadata": {
        "id": "q6Q-vi3ocmej"
      },
      "execution_count": 53,
      "outputs": []
    },
    {
      "cell_type": "code",
      "source": [
        "def middle_flow(tensor):\n",
        "    for _ in range(8):\n",
        "        x = ReLU()(tensor)\n",
        "        x = sep_bn(x, filters=728, kernel_size=3)\n",
        "        x = ReLU()(x)\n",
        "        x = sep_bn(x, filters=728, kernel_size=3)\n",
        "        x = ReLU()(x)\n",
        "        x = sep_bn(x, filters=728, kernel_size=3)\n",
        " \n",
        "        tensor = Add()([tensor, x])\n",
        " \n",
        "    return tensor"
      ],
      "metadata": {
        "id": "R_NXcuXYcmND"
      },
      "execution_count": 54,
      "outputs": []
    },
    {
      "cell_type": "code",
      "source": [
        "def exit_flow(tensor):\n",
        "    x = ReLU()(tensor)\n",
        "    x = sep_bn(x, filters=728, kernel_size=3)\n",
        "    x = ReLU()(x)\n",
        "    x = sep_bn(x, filters=1024, kernel_size=3)\n",
        "    x = MaxPool2D(3, strides=2, padding='same')(x)\n",
        " \n",
        "    tensor = conv_bn(tensor, filters=1024, kernel_size=1, strides=2)\n",
        " \n",
        "    x = Add()([tensor, x])\n",
        "    x = sep_bn(x, filters=1536, kernel_size=3)\n",
        "    x = ReLU()(x)\n",
        "    x = sep_bn(x, filters=2048, kernel_size=3)\n",
        "    x = ReLU()(x)\n",
        "    x = GlobalAvgPool2D()(x)\n",
        "    x = Dense(units=6, activation='softmax')(x)\n",
        " \n",
        "    return x\n"
      ],
      "metadata": {
        "id": "DmTs0bTIc35k"
      },
      "execution_count": 55,
      "outputs": []
    },
    {
      "cell_type": "code",
      "source": [
        "input = Input(shape=[150, 150, 3])\n",
        " \n",
        "x = entry_flow(input)\n",
        "x = middle_flow(x)\n",
        "output = exit_flow(x)\n",
        " \n",
        "from tensorflow.keras import Model \n",
        "model = Model(input, output)"
      ],
      "metadata": {
        "id": "60KDZVZHc33C"
      },
      "execution_count": 56,
      "outputs": []
    },
    {
      "cell_type": "code",
      "source": [
        "from tensorflow.keras.optimizers import Adam\n",
        "opt = Adam(learning_rate=0.01)\n",
        "model.compile(optimizer=opt, loss='categorical_crossentropy', metrics=['accuracy'])"
      ],
      "metadata": {
        "id": "PXSxyWetc3yq"
      },
      "execution_count": 59,
      "outputs": []
    },
    {
      "cell_type": "code",
      "source": [
        "model.fit(training_set,\n",
        "          batch_size=128,\n",
        "          epochs=12,\n",
        "          verbose=1,\n",
        "          validation_data=val_set)"
      ],
      "metadata": {
        "colab": {
          "base_uri": "https://localhost:8080/"
        },
        "id": "hHw2sLolCwJE",
        "outputId": "a76f67c0-303a-41a2-fd06-8be57336ac21"
      },
      "execution_count": 60,
      "outputs": [
        {
          "output_type": "stream",
          "name": "stdout",
          "text": [
            "Epoch 1/12\n",
            "307/307 [==============================] - 271s 695ms/step - loss: 1.6758 - accuracy: 0.4162 - val_loss: 8.0188 - val_accuracy: 0.2371\n",
            "Epoch 2/12\n",
            "307/307 [==============================] - 212s 690ms/step - loss: 1.1495 - accuracy: 0.5432 - val_loss: 1.6427 - val_accuracy: 0.4547\n",
            "Epoch 3/12\n",
            "307/307 [==============================] - 212s 689ms/step - loss: 1.0287 - accuracy: 0.5967 - val_loss: 1.0482 - val_accuracy: 0.5795\n",
            "Epoch 4/12\n",
            "307/307 [==============================] - 212s 689ms/step - loss: 0.8691 - accuracy: 0.6654 - val_loss: 1.8601 - val_accuracy: 0.4948\n",
            "Epoch 5/12\n",
            "307/307 [==============================] - 213s 692ms/step - loss: 0.7354 - accuracy: 0.7273 - val_loss: 1.0173 - val_accuracy: 0.6552\n",
            "Epoch 6/12\n",
            "307/307 [==============================] - 213s 692ms/step - loss: 0.6619 - accuracy: 0.7567 - val_loss: 0.8404 - val_accuracy: 0.7024\n",
            "Epoch 7/12\n",
            "307/307 [==============================] - 213s 693ms/step - loss: 0.6199 - accuracy: 0.7759 - val_loss: 0.6245 - val_accuracy: 0.7886\n",
            "Epoch 8/12\n",
            "307/307 [==============================] - 212s 690ms/step - loss: 0.5742 - accuracy: 0.7938 - val_loss: 2.7156 - val_accuracy: 0.4476\n",
            "Epoch 9/12\n",
            "307/307 [==============================] - 213s 691ms/step - loss: 0.5407 - accuracy: 0.8035 - val_loss: 1.1698 - val_accuracy: 0.5750\n",
            "Epoch 10/12\n",
            "307/307 [==============================] - 213s 692ms/step - loss: 0.5267 - accuracy: 0.8138 - val_loss: 0.8027 - val_accuracy: 0.6996\n",
            "Epoch 11/12\n",
            "307/307 [==============================] - 213s 692ms/step - loss: 0.4965 - accuracy: 0.8219 - val_loss: 0.7060 - val_accuracy: 0.7601\n",
            "Epoch 12/12\n",
            "307/307 [==============================] - 212s 690ms/step - loss: 0.4800 - accuracy: 0.8271 - val_loss: 1.0516 - val_accuracy: 0.6488\n"
          ]
        },
        {
          "output_type": "execute_result",
          "data": {
            "text/plain": [
              "<keras.callbacks.History at 0x7fae05bb02d0>"
            ]
          },
          "metadata": {},
          "execution_count": 60
        }
      ]
    },
    {
      "cell_type": "code",
      "source": [
        "model.fit(training_set,\n",
        "          batch_size=128,\n",
        "          epochs=12,\n",
        "          verbose=1,\n",
        "          validation_data=val_set)"
      ],
      "metadata": {
        "colab": {
          "base_uri": "https://localhost:8080/"
        },
        "id": "3G6xpz2uNUt5",
        "outputId": "8c4ed4e4-6d5f-4def-dc20-e6d07f816888"
      },
      "execution_count": 61,
      "outputs": [
        {
          "output_type": "stream",
          "name": "stdout",
          "text": [
            "Epoch 1/12\n",
            "307/307 [==============================] - 213s 693ms/step - loss: 0.4733 - accuracy: 0.8299 - val_loss: 0.9196 - val_accuracy: 0.7062\n",
            "Epoch 2/12\n",
            "307/307 [==============================] - 213s 693ms/step - loss: 0.4478 - accuracy: 0.8374 - val_loss: 0.6272 - val_accuracy: 0.7774\n",
            "Epoch 3/12\n",
            "307/307 [==============================] - 212s 689ms/step - loss: 0.4279 - accuracy: 0.8495 - val_loss: 0.5460 - val_accuracy: 0.8106\n",
            "Epoch 4/12\n",
            "307/307 [==============================] - 213s 691ms/step - loss: 0.4087 - accuracy: 0.8543 - val_loss: 1.0204 - val_accuracy: 0.7997\n",
            "Epoch 5/12\n",
            "307/307 [==============================] - 213s 692ms/step - loss: 0.4055 - accuracy: 0.8540 - val_loss: 0.9535 - val_accuracy: 0.7302\n",
            "Epoch 6/12\n",
            "307/307 [==============================] - 212s 689ms/step - loss: 0.3868 - accuracy: 0.8633 - val_loss: 1.0206 - val_accuracy: 0.7221\n",
            "Epoch 7/12\n",
            "307/307 [==============================] - 213s 691ms/step - loss: 0.3726 - accuracy: 0.8685 - val_loss: 1.2419 - val_accuracy: 0.6163\n",
            "Epoch 8/12\n",
            "307/307 [==============================] - 213s 692ms/step - loss: 0.3703 - accuracy: 0.8681 - val_loss: 6.0355 - val_accuracy: 0.6697\n",
            "Epoch 9/12\n",
            "307/307 [==============================] - 212s 689ms/step - loss: 0.3450 - accuracy: 0.8734 - val_loss: 0.5566 - val_accuracy: 0.8386\n",
            "Epoch 10/12\n",
            "307/307 [==============================] - 213s 692ms/step - loss: 0.3303 - accuracy: 0.8822 - val_loss: 0.6107 - val_accuracy: 0.8023\n",
            "Epoch 11/12\n",
            "307/307 [==============================] - 211s 688ms/step - loss: 0.3153 - accuracy: 0.8878 - val_loss: 3.4318 - val_accuracy: 0.5669\n",
            "Epoch 12/12\n",
            "307/307 [==============================] - 212s 690ms/step - loss: 0.3238 - accuracy: 0.8874 - val_loss: 0.7810 - val_accuracy: 0.7613\n"
          ]
        },
        {
          "output_type": "execute_result",
          "data": {
            "text/plain": [
              "<keras.callbacks.History at 0x7fadfa7ec890>"
            ]
          },
          "metadata": {},
          "execution_count": 61
        }
      ]
    },
    {
      "cell_type": "code",
      "source": [
        "Xc= model.fit(training_set,\n",
        "          batch_size=128,\n",
        "          epochs=5,\n",
        "          verbose=1,\n",
        "          validation_data=val_set)"
      ],
      "metadata": {
        "colab": {
          "base_uri": "https://localhost:8080/"
        },
        "id": "9O-SkoACwUax",
        "outputId": "38689710-f54c-4759-c52b-1683fe5187b8"
      },
      "execution_count": 63,
      "outputs": [
        {
          "output_type": "stream",
          "name": "stdout",
          "text": [
            "Epoch 1/5\n",
            "307/307 [==============================] - 212s 690ms/step - loss: 0.3187 - accuracy: 0.8876 - val_loss: 1.2754 - val_accuracy: 0.6149\n",
            "Epoch 2/5\n",
            "307/307 [==============================] - 211s 686ms/step - loss: 0.3241 - accuracy: 0.8826 - val_loss: 7.2539 - val_accuracy: 0.5363\n",
            "Epoch 3/5\n",
            "307/307 [==============================] - 211s 687ms/step - loss: 0.2909 - accuracy: 0.8910 - val_loss: 0.6489 - val_accuracy: 0.7814\n",
            "Epoch 4/5\n",
            "307/307 [==============================] - 210s 684ms/step - loss: 0.2729 - accuracy: 0.9030 - val_loss: 0.4207 - val_accuracy: 0.8510\n",
            "Epoch 5/5\n",
            "307/307 [==============================] - 210s 685ms/step - loss: 0.2655 - accuracy: 0.9044 - val_loss: 0.4187 - val_accuracy: 0.8633\n"
          ]
        }
      ]
    },
    {
      "cell_type": "code",
      "execution_count": 64,
      "metadata": {
        "colab": {
          "base_uri": "https://localhost:8080/"
        },
        "id": "UX5qIfYH8RSO",
        "outputId": "90dc4468-1aaf-4ad8-f354-1036d5654b7b"
      },
      "outputs": [
        {
          "output_type": "stream",
          "name": "stderr",
          "text": [
            "/usr/local/lib/python3.7/dist-packages/ipykernel_launcher.py:3: UserWarning: `Model.evaluate_generator` is deprecated and will be removed in a future version. Please use `Model.evaluate`, which supports generators.\n",
            "  This is separate from the ipykernel package so we can avoid doing imports until\n"
          ]
        },
        {
          "output_type": "execute_result",
          "data": {
            "text/plain": [
              "[0.42033350467681885, 0.8625954389572144]"
            ]
          },
          "metadata": {},
          "execution_count": 64
        }
      ],
      "source": [
        "STEP_SIZE_VALID=val_set.n//val_set.batch_size\n",
        "model.evaluate_generator(generator=val_set,\n",
        "steps=STEP_SIZE_VALID)"
      ]
    },
    {
      "cell_type": "code",
      "source": [
        "STEP_SIZE_TRAIN=training_set.n//training_set.batch_size\n",
        "model.evaluate_generator(generator=training_set,\n",
        "steps=STEP_SIZE_TRAIN)"
      ],
      "metadata": {
        "colab": {
          "base_uri": "https://localhost:8080/"
        },
        "id": "N4oGNyCTS4pF",
        "outputId": "42676e8a-5e3d-46f5-f7aa-6efb551e306e"
      },
      "execution_count": 65,
      "outputs": [
        {
          "output_type": "stream",
          "name": "stderr",
          "text": [
            "/usr/local/lib/python3.7/dist-packages/ipykernel_launcher.py:3: UserWarning: `Model.evaluate_generator` is deprecated and will be removed in a future version. Please use `Model.evaluate`, which supports generators.\n",
            "  This is separate from the ipykernel package so we can avoid doing imports until\n"
          ]
        },
        {
          "output_type": "execute_result",
          "data": {
            "text/plain": [
              "[0.28933998942375183, 0.8993055820465088]"
            ]
          },
          "metadata": {},
          "execution_count": 65
        }
      ]
    },
    {
      "cell_type": "code",
      "execution_count": 70,
      "metadata": {
        "colab": {
          "base_uri": "https://localhost:8080/"
        },
        "id": "yaIlWXKF0j0-",
        "outputId": "43adb617-9692-4a1a-831b-08b06275f45c"
      },
      "outputs": [
        {
          "output_type": "stream",
          "name": "stderr",
          "text": [
            "/usr/local/lib/python3.7/dist-packages/ipykernel_launcher.py:9: UserWarning: `Model.predict_generator` is deprecated and will be removed in a future version. Please use `Model.predict`, which supports generators.\n",
            "  if __name__ == '__main__':\n"
          ]
        },
        {
          "output_type": "stream",
          "name": "stdout",
          "text": [
            " 96/150 [==================>...........] - ETA: 6s"
          ]
        },
        {
          "output_type": "stream",
          "name": "stderr",
          "text": [
            "WARNING:tensorflow:Your input ran out of data; interrupting training. Make sure that your dataset or generator can generate at least `steps_per_epoch * epochs` batches (in this case, 150 batches). You may need to use the repeat() function when building your dataset.\n"
          ]
        },
        {
          "output_type": "stream",
          "name": "stdout",
          "text": [
            "\b\b\b\b\b\b\b\b\b\b\b\b\b\b\b\b\b\b\b\b\b\b\b\b\b\b\b\b\b\b\b\b\b\b\b\b\b\b\b\b\b\b\b\b\b\b\b\b\b\b\r150/150 [==============================] - 12s 78ms/step\n"
          ]
        }
      ],
      "source": [
        "import os \n",
        "import glob\n",
        "import pandas as pd\n",
        "import numpy as np \n",
        "\n",
        "Name = []\n",
        "\n",
        "for img in glob.glob(test_dir):\n",
        "    prediction = model.predict_generator(test_set,steps=150,verbose=1)\n",
        "    for name in os.listdir('/content/drive/MyDrive/sprints project /testset/Scenes testing test'):\n",
        "         Name.append(name[0::])\n",
        "\n",
        "\n",
        "\n",
        "predicted_class_indics=np.argmax(prediction,axis=1)\n",
        "Name.sort()\n",
        "Temp = {'Image':Name, 'Label':predicted_class_indics}\n",
        "temp = pd.DataFrame(Temp)\n",
        "temp.to_csv('/content/results.csv', index=False)"
      ]
    },
    {
      "cell_type": "code",
      "source": [
        "\n",
        "pip install plot_keras_history"
      ],
      "metadata": {
        "colab": {
          "base_uri": "https://localhost:8080/"
        },
        "id": "GtucI3YM3NVz",
        "outputId": "f88a5549-c710-4e27-9df3-e80f5525400a"
      },
      "execution_count": 72,
      "outputs": [
        {
          "output_type": "stream",
          "name": "stdout",
          "text": [
            "Looking in indexes: https://pypi.org/simple, https://us-python.pkg.dev/colab-wheels/public/simple/\n",
            "Collecting plot_keras_history\n",
            "  Downloading plot_keras_history-1.1.37.tar.gz (11 kB)\n",
            "Requirement already satisfied: matplotlib in /usr/local/lib/python3.7/dist-packages (from plot_keras_history) (3.2.2)\n",
            "Requirement already satisfied: pandas in /usr/local/lib/python3.7/dist-packages (from plot_keras_history) (1.3.5)\n",
            "Requirement already satisfied: scipy in /usr/local/lib/python3.7/dist-packages (from plot_keras_history) (1.7.3)\n",
            "Collecting support_developer>=1.0.2\n",
            "  Downloading support_developer-1.0.3.tar.gz (4.7 kB)\n",
            "Collecting sanitize_ml_labels>=1.0.48\n",
            "  Downloading sanitize_ml_labels-1.0.49.tar.gz (321 kB)\n",
            "\u001b[K     |████████████████████████████████| 321 kB 9.4 MB/s \n",
            "\u001b[?25hCollecting compress_json\n",
            "  Downloading compress_json-1.0.8.tar.gz (4.7 kB)\n",
            "Requirement already satisfied: numpy>=1.11 in /usr/local/lib/python3.7/dist-packages (from matplotlib->plot_keras_history) (1.21.6)\n",
            "Requirement already satisfied: pyparsing!=2.0.4,!=2.1.2,!=2.1.6,>=2.0.1 in /usr/local/lib/python3.7/dist-packages (from matplotlib->plot_keras_history) (3.0.9)\n",
            "Requirement already satisfied: cycler>=0.10 in /usr/local/lib/python3.7/dist-packages (from matplotlib->plot_keras_history) (0.11.0)\n",
            "Requirement already satisfied: kiwisolver>=1.0.1 in /usr/local/lib/python3.7/dist-packages (from matplotlib->plot_keras_history) (1.4.4)\n",
            "Requirement already satisfied: python-dateutil>=2.1 in /usr/local/lib/python3.7/dist-packages (from matplotlib->plot_keras_history) (2.8.2)\n",
            "Requirement already satisfied: typing-extensions in /usr/local/lib/python3.7/dist-packages (from kiwisolver>=1.0.1->matplotlib->plot_keras_history) (4.1.1)\n",
            "Requirement already satisfied: six>=1.5 in /usr/local/lib/python3.7/dist-packages (from python-dateutil>=2.1->matplotlib->plot_keras_history) (1.15.0)\n",
            "Requirement already satisfied: pytz>=2017.3 in /usr/local/lib/python3.7/dist-packages (from pandas->plot_keras_history) (2022.2.1)\n",
            "Building wheels for collected packages: plot-keras-history, sanitize-ml-labels, support-developer, compress-json\n",
            "  Building wheel for plot-keras-history (setup.py) ... \u001b[?25l\u001b[?25hdone\n",
            "  Created wheel for plot-keras-history: filename=plot_keras_history-1.1.37-py3-none-any.whl size=9408 sha256=da39ab3ef7c716f8768c33c7ddc6b6a9d3a31e53dda7e9ec75cf093cc829e0ff\n",
            "  Stored in directory: /root/.cache/pip/wheels/72/91/3c/9306e573b56b6ea00e7d37c2286d51d1f8f2d7b1b078bf3399\n",
            "  Building wheel for sanitize-ml-labels (setup.py) ... \u001b[?25l\u001b[?25hdone\n",
            "  Created wheel for sanitize-ml-labels: filename=sanitize_ml_labels-1.0.49-py3-none-any.whl size=320403 sha256=843c747648a5dc5b54268ee833f5904204c79120d74f23143aef7b3b3996ff0b\n",
            "  Stored in directory: /root/.cache/pip/wheels/f6/0a/7a/c00024468dd987395ee9bd54d293f6cc31f58da13dc2cfc5fc\n",
            "  Building wheel for support-developer (setup.py) ... \u001b[?25l\u001b[?25hdone\n",
            "  Created wheel for support-developer: filename=support_developer-1.0.3-py3-none-any.whl size=5202 sha256=8fdf1c0dddb2cd3ae641dfb7de30458a8fecb719ccc080eec0298cb5a4e66679\n",
            "  Stored in directory: /root/.cache/pip/wheels/51/00/53/c6fb03c18816d1e57c3df9a0a2f77d5b1f697a60e132f5632d\n",
            "  Building wheel for compress-json (setup.py) ... \u001b[?25l\u001b[?25hdone\n",
            "  Created wheel for compress-json: filename=compress_json-1.0.8-py3-none-any.whl size=4730 sha256=ceaf17393998a83c81fff62b6517b08010949c9906c8fd2dd2f9df519bb14b47\n",
            "  Stored in directory: /root/.cache/pip/wheels/93/9f/a4/13810037c24ad31f1f42fe769d4cbe6665d8d081c322b3483b\n",
            "Successfully built plot-keras-history sanitize-ml-labels support-developer compress-json\n",
            "Installing collected packages: support-developer, compress-json, sanitize-ml-labels, plot-keras-history\n",
            "Successfully installed compress-json-1.0.8 plot-keras-history-1.1.37 sanitize-ml-labels-1.0.49 support-developer-1.0.3\n"
          ]
        }
      ]
    },
    {
      "cell_type": "code",
      "source": [
        "from plot_keras_history import show_history, plot_history\n",
        "import matplotlib.pyplot as plt\n",
        "\n",
        "\n",
        "show_history(Xc)\n",
        "plot_history(Xc, path=\"standard.png\")\n",
        "plt.close()\n",
        "\n"
      ],
      "metadata": {
        "colab": {
          "base_uri": "https://localhost:8080/",
          "height": 385
        },
        "id": "t0AMp_iN298c",
        "outputId": "aac08133-beaa-4db0-bbf3-d2f7c11e51c9"
      },
      "execution_count": 73,
      "outputs": [
        {
          "output_type": "display_data",
          "data": {
            "text/plain": [
              "<Figure size 720x360 with 2 Axes>"
            ],
            "image/png": "[encoded data removed]"
          },
          "metadata": {
            "needs_background": "light"
          }
        }
      ]
    },
    {
      "cell_type": "code",
      "source": [],
      "metadata": {
        "id": "EX6MEzTY3D1-"
      },
      "execution_count": null,
      "outputs": []
    }
  ],
  "metadata": {
    "accelerator": "GPU",
    "colab": {
      "provenance": []
    },
    "gpuClass": "standard",
    "kernelspec": {
      "display_name": "Python 3",
      "name": "python3"
    },
    "language_info": {
      "name": "python"
    }
  },
  "nbformat": 4,
  "nbformat_minor": 0
}